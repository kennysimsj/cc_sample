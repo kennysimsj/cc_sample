{
 "cells": [
  {
   "cell_type": "code",
   "execution_count": 136,
   "id": "3e785704",
   "metadata": {},
   "outputs": [],
   "source": [
    "import os\n",
    "import pyspark\n",
    "import kagglehub\n",
    "import json\n",
    "import us\n",
    "import probablepeople as pp\n",
    "import seaborn as sns\n",
    "import matplotlib.pyplot as plt\n",
    "\n",
    "from pyspark.sql import SparkSession\n",
    "from pyspark.sql.functions import *\n",
    "from pyspark.sql.types import *"
   ]
  },
  {
   "cell_type": "code",
   "execution_count": 137,
   "id": "fb989a88",
   "metadata": {},
   "outputs": [],
   "source": [
    "# Initiate Spark Session\n",
    "spark = SparkSession.builder.appName(\"example\").getOrCreate()"
   ]
  },
  {
   "cell_type": "markdown",
   "id": "e0fa3a1d",
   "metadata": {},
   "source": [
    "# 1. Load Dataset from Kaggle"
   ]
  },
  {
   "cell_type": "code",
   "execution_count": 138,
   "id": "52183d4a",
   "metadata": {},
   "outputs": [],
   "source": [
    "# Download latest version\n",
    "path = kagglehub.dataset_download(\"jinquan/cc-sample-data\")"
   ]
  },
  {
   "cell_type": "code",
   "execution_count": 139,
   "id": "eee27a23",
   "metadata": {},
   "outputs": [],
   "source": [
    "# Load dataset\n",
    "raw_df = spark.read.json(path)"
   ]
  },
  {
   "cell_type": "code",
   "execution_count": 140,
   "id": "594144b0",
   "metadata": {},
   "outputs": [
    {
     "name": "stdout",
     "output_type": "stream",
     "text": [
      "root\n",
      " |-- Unnamed: 0: string (nullable = true)\n",
      " |-- amt: string (nullable = true)\n",
      " |-- category: string (nullable = true)\n",
      " |-- cc_bic: string (nullable = true)\n",
      " |-- cc_num: string (nullable = true)\n",
      " |-- is_fraud: string (nullable = true)\n",
      " |-- merch_eff_time: string (nullable = true)\n",
      " |-- merch_last_update_time: string (nullable = true)\n",
      " |-- merch_lat: string (nullable = true)\n",
      " |-- merch_long: string (nullable = true)\n",
      " |-- merch_zipcode: string (nullable = true)\n",
      " |-- merchant: string (nullable = true)\n",
      " |-- personal_detail: string (nullable = true)\n",
      " |-- trans_date_trans_time: string (nullable = true)\n",
      " |-- trans_num: string (nullable = true)\n",
      "\n"
     ]
    }
   ],
   "source": [
    "# Check dtypes\n",
    "raw_df.printSchema()\n",
    "\n",
    "# NOTE: Currently 15 columns with one nested column, the expected columns have 26 columns"
   ]
  },
  {
   "cell_type": "markdown",
   "id": "14fed0dd",
   "metadata": {},
   "source": [
    "# 2. Flatten JSON\n",
    "- recursively flatten the nested json"
   ]
  },
  {
   "cell_type": "code",
   "execution_count": 141,
   "id": "66455948",
   "metadata": {},
   "outputs": [
    {
     "name": "stdout",
     "output_type": "stream",
     "text": [
      "+----------+------+-------------+-----------+-------------------+--------+----------------+----------------------+------------------+------------------+-------------+----------------------------------------+---------------------+--------------------------------+-------------------------+------+-------+------------------+--------+---------------------------------------------+----------+------------------------------+------------------------+-----+-----+\n",
      "|Unnamed: 0|amt   |category     |cc_bic     |cc_num             |is_fraud|merch_eff_time  |merch_last_update_time|merch_lat         |merch_long        |merch_zipcode|merchant                                |trans_date_trans_time|trans_num                       |person_name              |gender|lat    |long              |city_pop|job                                          |dob       |street                        |city                    |state|zip  |\n",
      "+----------+------+-------------+-----------+-------------------+--------+----------------+----------------------+------------------+------------------+-------------+----------------------------------------+---------------------+--------------------------------+-------------------------+------+-------+------------------+--------+---------------------------------------------+----------+------------------------------+------------------------+-----+-----+\n",
      "|0         |4.97  |misc_net     |CITIUS33CHI|2703186189652095   |0       |1325376018798532|1325376018666         |36.011293         |-82.048315        |28705        |fraud_Rippin, Kub and Mann              |2019-01-01 00:00:18  |0b242abb623afc578575680df30655b9|Jennifer,Banks,eeeee     |F     |36.0788|-81.1781          |3495    |Psychologist, counselling                    |1988-03-09|561 Perry Cove                |Moravian Falls          |NC   |28654|\n",
      "|1         |107.23|grocery_pos  |ADMDUS41   |630423337322       |0       |1325376044867960|132537604479          |49.159046999999994|-118.186462       |NULL         |fraud_Heller, Gutmann and Zieme         |2019-01-01 00:00:44  |1f76529f8574734946361c461b024d99|Stephanie,Gill,eeeee     |F     |48.8878|-118.2105         |149     |Special educational needs teacher            |1978-06-21|43039 Riley Greens Suite 393  |Orient                  |WA   |99160|\n",
      "|2         |220.11|entertainment|Null       |38859492057661     |0       |1325376051506840|1325376051286         |43.150704         |-112.154481       |83236        |fraud_Lind-Buckridge                    |2019-01-01 00:00:51  |a1a22d70485983eac12b5b88dad1cf95|Edward@Sanchez           |M     |42.1808|-112.262          |4154    |Nature conservation officer                  |1962-01-19|594 White Dale Suite 530      |Malad City              |ID   |83252|\n",
      "|3         |45.0  |gas_transport|DEUTUS33TRF|3534093764340240   |0       |1325376076794698|1325376076365         |47.034331         |-112.561071       |NULL         |fraud_Kutch, Hermiston and Farrell      |2019-01-01 00:01:16  |6b849c168bdad6f867558c3793159a81|Jeremy/White, !          |M     |46.2306|-112.1138         |1939    |Patent attorney                              |1967-01-12|9443 Cynthia Court Apt. 038   |Boulder                 |MT   |59632|\n",
      "|4         |41.96 |misc_pos     |APBCUS61   |375534208663984    |0       |1325376186746376|132537618681          |38.674999         |-78.632459        |22844        |fraud_Keeling-Crist                     |2019-01-01 00:03:06  |a41d7549acf90789359a9aa5346dcb46|Tyler@Garcia             |M     |38.4207|-79.4629          |99      |Dance movement psychotherapist               |1986-03-28|408 Bradley Rest              |Doe Hill                |VA   |24433|\n",
      "|5         |94.63 |gas_transport|APBCUS61   |4767265376804500   |0       |1325376248271406|1325376248483         |40.653382         |-76.15266700000001|17972        |fraud_Stroman, Hudson and Erdman        |2019-01-01 00:04:08  |189a841a0a8ba03058526bcfe566aab5|Jennifer,Conner,eeeee    |F     |40.375 |-75.2045          |2158    |Transport planner                            |1961-06-19|4655 David Island             |Dublin                  |PA   |18917|\n",
      "|6         |44.54 |grocery_net  |APBCUS61   |30074693890476     |0       |1325376282274130|1325376282247         |37.162704999999995|-100.15337        |NULL         |fraud_Rowe-Vandervort                   |2019-01-01 00:04:42  |83ec1cc84142af6e2acf10c44949e720|Kelsey, , Richards NOOOO |F     |37.9931|-100.9893         |2691    |Arboriculturist                              |1993-08-16|889 Sarah Station Suite 624   |Holcomb                 |KS   |67851|\n",
      "|7         |71.65 |gas_transport|NA         |6011360759745864   |0       |1325376308837349|1325376308152         |38.948089         |-78.540296        |22644        |fraud_Corwin-Collins                    |2019-01-01 00:05:08  |6d294ed2cc447d2c71c7171a3d54967c|Steven, Williams         |M     |38.8432|-78.6003          |6018    |Designer, multimedia                         |1947-08-21|231 Flores Pass Suite 720     |Edinburg                |VA   |22824|\n",
      "|8         |4.27  |misc_pos     |ACEEUS31   |4922710831011201   |0       |1325376318245892|1325376318278         |40.351813         |-79.958146        |15236        |fraud_Herzog Ltd                        |2019-01-01 00:05:18  |fc28024ce480f8ef21a32d64c93a29f5|Heather, , Chase NOOOO   |F     |40.3359|-79.6607          |1472    |Public affairs consultant                    |1941-03-07|6888 Hicks Stream Suite 954   |Manor                   |PA   |15665|\n",
      "|9         |198.39|grocery_pos  |DEUTUS33TRF|2720830304681674   |0       |1325376361965234|1325376361857         |37.179198         |-87.485381        |42442        |fraud_Schoen, Kuphal and Nitzsche       |2019-01-01 00:06:01  |3b9014ea8fb80bd65de0b1463b00b00e|Melissa@Aguilar          |F     |36.522 |-87.34899999999999|151785  |Pathologist                                  |1974-03-28|21326 Taylor Squares Suite 708|Clarksville             |TN   |37040|\n",
      "|10        |24.74 |grocery_pos  |           |4642894980163      |0       |1325376383967287|1325376383455         |40.275890999999994|-96.011548        |68348        |fraud_Rutherford-Mertz                  |2019-01-01 00:06:23  |d71c95ab6b7356dd74389d41df429c87|Eddie|Mendez!!!          |M     |40.7491|-95.038           |7297    |IT trainer                                   |1990-07-13|1831 Faith View Suite 653     |Clarinda                |IA   |51632|\n",
      "|11        |7.77  |shopping_net |DEUTUS33TRF|377234009633447    |0       |1325376413912233|1325376413859         |40.103866         |-78.624459        |15554        |fraud_Kerluke-Abshire                   |2019-01-01 00:06:53  |3c74776e558f1499a7824b556e474b1d|Theresa@Blackwell        |F     |39.3716|-77.8229          |1925    |Systems developer                            |1966-02-14|43576 Kristina Islands        |Shenandoah Junction     |WV   |25442|\n",
      "|12        |71.22 |grocery_pos  |DEUTUS33TRF|180042946491150    |0       |1325376416569264|1325376416443         |27.630593         |-82.308891        |33598        |fraud_Lockman Ltd                       |2019-01-01 00:06:56  |c1d9a7ddb1e34639fe82758de97f4abf|Charles|Robles!!!        |M     |27.7898|-82.7243          |341043  |Engineer, land                               |1989-02-28|3337 Lisa Divide              |Saint Petersburg        |FL   |33710|\n",
      "|13        |96.29 |grocery_pos  |ACEEUS31   |5559857416065248   |0       |1325376447442465|1325376447771         |41.65752          |-122.230347       |NULL         |fraud_Kiehn Inc                         |2019-01-01 00:07:27  |413636e759663f264aae1819a4d4f231|Jack@Hill                |M     |41.6125|-122.5258         |589     |Systems analyst                              |1945-12-21|5916 Susan Bridge Apt. 939    |Grenada                 |CA   |96038|\n",
      "|14        |7.77  |shopping_pos |ACEEUS31   |3514865930894695   |0       |132537654399153 |1325376543282         |32.863258         |-106.520205       |NULL         |fraud_Beier-Hyatt                       |2019-01-01 00:09:03  |8a6293af5ed278dea14448ded2685fea|Christopher@Castaneda    |M     |32.9396|-105.8189         |899     |Naval architect                              |1967-08-30|1632 Cohen Drive Suite 639    |High Rolls Mountain Park|NM   |88325|\n",
      "|15        |3.26  |shopping_net |CITIUS33CHI|6011999606625827   |0       |1325376560448213|1325376560435         |41.831174         |-74.335559        |12446        |fraud_Schmidt and Sons                  |2019-01-01 00:09:20  |baae0b096835c975857eea7e28dde3dc|Ronald@Carson            |M     |40.9918|-73.98            |4664    |Radiographer, diagnostic                     |1965-06-30|870 Rocha Drive               |Harrington Park         |NJ   |7640 |\n",
      "|16        |327.0 |misc_net     |CITIUS33CHI|6011860238257910   |0       |132537664977977 |1325376649369         |36.384091999999995|-99.048472        |73852        |fraud_Lebsack and Sons                  |2019-01-01 00:10:49  |991c04803b4d4eeab30d6245a872e3d3|Lisa, Mendez             |F     |36.385 |-98.0727          |1078    |Programme researcher, broadcasting/film/video|1952-07-06|44259 Beth Station Suite 215  |Lahoma                  |OK   |73754|\n",
      "|17        |341.67|shopping_pos |           |3565423334076143   |0       |1325376658780653|1325376658125         |38.674491         |-88.305767        |62824        |fraud_Mayert Group                      |2019-01-01 00:10:58  |f12cf52be2175703db789a4644c32f25|Nathan,Thomas,eeeee      |M     |38.9763|-87.3667          |4081    |Energy engineer                              |1938-03-15|4923 Campbell Pines Suite 717 |Carlisle                |IN   |47838|\n",
      "|18        |63.07 |food_dining  |APBCUS61   |2348245054386329   |0       |1325376674645606|1325376674800         |41.430274         |-79.492553        |16364        |fraud_Konopelski, Schneider and Hartmann|2019-01-01 00:11:14  |8500f3d459047eac8443307b1e8296e5|Justin, Gay              |M     |42.1767|-79.9416          |2518    |Event organiser                              |1946-02-02|268 Hayes Rue Suite 811       |Harborcreek             |PA   |16421|\n",
      "|19        |44.71 |grocery_pos  |           |4956828990005111019|0       |132537675433224 |1325376754863         |40.079588         |-74.84808699999999|08016        |fraud_Schultz, Simonis and Little       |2019-01-01 00:12:34  |09eff9c806365e2a6be12c1bbab3d70e|Kenneth, , Robinson NOOOO|M     |40.6747|-74.2239          |124967  |Operational researcher                       |1980-12-21|269 Sanchez Rapids            |Elizabeth               |NJ   |7208 |\n",
      "+----------+------+-------------+-----------+-------------------+--------+----------------+----------------------+------------------+------------------+-------------+----------------------------------------+---------------------+--------------------------------+-------------------------+------+-------+------------------+--------+---------------------------------------------+----------+------------------------------+------------------------+-----+-----+\n",
      "only showing top 20 rows\n",
      "\n"
     ]
    }
   ],
   "source": [
    "# Function to dynamically infer the schema, parse JSON and flatten the cols \n",
    "def infer_and_parse_json(df, json_string_col, prefix: bool = False):\n",
    "    # Step 1: Retrieve a sample of the JSON data - sample using first row to save compute\n",
    "    sample_json = df.select(json_string_col).limit(1).collect()[0][0]\n",
    "    \n",
    "    # Step 2: Parse the JSON string into a dictionary\n",
    "    parsed_json = json.loads(sample_json)\n",
    "    \n",
    "    # Step 3: Dynamically create the schema based on the JSON keys\n",
    "    # All fields will be treated as StringType for now\n",
    "    schema = StructType([StructField(key, StringType(), True) for key in parsed_json.keys()])\n",
    "    \n",
    "    # Step 4: Apply from_json to parse the column using the inferred schema\n",
    "    df = df.withColumn(f\"{json_string_col}_struct\", from_json(col(json_string_col), schema))\n",
    "    \n",
    "    # Step 5: Flatten the struct into individual columns\n",
    "    for field in schema.fields:\n",
    "        if prefix:\n",
    "            df = df.withColumn(f\"{json_string_col}_{field.name}\", col(f\"{json_string_col}_struct.{field.name}\"))\n",
    "        else:\n",
    "            df = df.withColumn(f\"{field.name}\", col(f\"{json_string_col}_struct.{field.name}\"))\n",
    "\n",
    "    # Drop the original json string column and the intermediate struct column\n",
    "    df = df.drop(json_string_col, f\"{json_string_col}_struct\")\n",
    "    \n",
    "    return df\n",
    "\n",
    "# Flatten first json string col - personal_details\n",
    "stg_df = infer_and_parse_json(df=raw_df, json_string_col=\"personal_detail\", prefix=False)\n",
    "# Flatten second/nested json string col - address in personal_details\n",
    "stg_df = infer_and_parse_json(df=stg_df, json_string_col=\"address\", prefix=False)\n",
    "stg_df.show(truncate=False)"
   ]
  },
  {
   "cell_type": "code",
   "execution_count": 142,
   "id": "10eb2807",
   "metadata": {},
   "outputs": [
    {
     "name": "stdout",
     "output_type": "stream",
     "text": [
      "Number of columns for stg_df: 25\n"
     ]
    }
   ],
   "source": [
    "print(f\"Number of columns for stg_df: {len(stg_df.columns)}\")\n",
    "# NOTE: This is 25/27 expected columns where it is missing \"first\" and \"last\" column (name)"
   ]
  },
  {
   "cell_type": "markdown",
   "id": "ccad7374",
   "metadata": {},
   "source": [
    "# 3. Name Derivations - Clean Names\n",
    "- clean and split names from \"person_name\" and \"merchant\" accordingly"
   ]
  },
  {
   "cell_type": "code",
   "execution_count": 143,
   "id": "ed079411",
   "metadata": {},
   "outputs": [
    {
     "name": "stdout",
     "output_type": "stream",
     "text": [
      "+----------+------+-------------+-----------+-------------------+--------+----------------+----------------------+------------------+------------------+-------------+----------------------------------------+---------------------+--------------------------------+------+-------+------------------+--------+---------------------------------------------+----------+------------------------------+------------------------+-----+-----+-----------+---------+\n",
      "|Unnamed: 0|amt   |category     |cc_bic     |cc_num             |is_fraud|merch_eff_time  |merch_last_update_time|merch_lat         |merch_long        |merch_zipcode|merchant                                |trans_date_trans_time|trans_num                       |gender|lat    |long              |city_pop|job                                          |dob       |street                        |city                    |state|zip  |first      |last     |\n",
      "+----------+------+-------------+-----------+-------------------+--------+----------------+----------------------+------------------+------------------+-------------+----------------------------------------+---------------------+--------------------------------+------+-------+------------------+--------+---------------------------------------------+----------+------------------------------+------------------------+-----+-----+-----------+---------+\n",
      "|0         |4.97  |misc_net     |CITIUS33CHI|2703186189652095   |0       |1325376018798532|1325376018666         |36.011293         |-82.048315        |28705        |fraud_Rippin, Kub and Mann              |2019-01-01 00:00:18  |0b242abb623afc578575680df30655b9|F     |36.0788|-81.1781          |3495    |Psychologist, counselling                    |1988-03-09|561 Perry Cove                |Moravian Falls          |NC   |28654|Jennifer   |Banks    |\n",
      "|1         |107.23|grocery_pos  |ADMDUS41   |630423337322       |0       |1325376044867960|132537604479          |49.159046999999994|-118.186462       |NULL         |fraud_Heller, Gutmann and Zieme         |2019-01-01 00:00:44  |1f76529f8574734946361c461b024d99|F     |48.8878|-118.2105         |149     |Special educational needs teacher            |1978-06-21|43039 Riley Greens Suite 393  |Orient                  |WA   |99160|Stephanie  |Gill     |\n",
      "|2         |220.11|entertainment|Null       |38859492057661     |0       |1325376051506840|1325376051286         |43.150704         |-112.154481       |83236        |fraud_Lind-Buckridge                    |2019-01-01 00:00:51  |a1a22d70485983eac12b5b88dad1cf95|M     |42.1808|-112.262          |4154    |Nature conservation officer                  |1962-01-19|594 White Dale Suite 530      |Malad City              |ID   |83252|Edward     |Sanchez  |\n",
      "|3         |45.0  |gas_transport|DEUTUS33TRF|3534093764340240   |0       |1325376076794698|1325376076365         |47.034331         |-112.561071       |NULL         |fraud_Kutch, Hermiston and Farrell      |2019-01-01 00:01:16  |6b849c168bdad6f867558c3793159a81|M     |46.2306|-112.1138         |1939    |Patent attorney                              |1967-01-12|9443 Cynthia Court Apt. 038   |Boulder                 |MT   |59632|Jeremy     |White    |\n",
      "|4         |41.96 |misc_pos     |APBCUS61   |375534208663984    |0       |1325376186746376|132537618681          |38.674999         |-78.632459        |22844        |fraud_Keeling-Crist                     |2019-01-01 00:03:06  |a41d7549acf90789359a9aa5346dcb46|M     |38.4207|-79.4629          |99      |Dance movement psychotherapist               |1986-03-28|408 Bradley Rest              |Doe Hill                |VA   |24433|Tyler      |Garcia   |\n",
      "|5         |94.63 |gas_transport|APBCUS61   |4767265376804500   |0       |1325376248271406|1325376248483         |40.653382         |-76.15266700000001|17972        |fraud_Stroman, Hudson and Erdman        |2019-01-01 00:04:08  |189a841a0a8ba03058526bcfe566aab5|F     |40.375 |-75.2045          |2158    |Transport planner                            |1961-06-19|4655 David Island             |Dublin                  |PA   |18917|Jennifer   |Conner   |\n",
      "|6         |44.54 |grocery_net  |APBCUS61   |30074693890476     |0       |1325376282274130|1325376282247         |37.162704999999995|-100.15337        |NULL         |fraud_Rowe-Vandervort                   |2019-01-01 00:04:42  |83ec1cc84142af6e2acf10c44949e720|F     |37.9931|-100.9893         |2691    |Arboriculturist                              |1993-08-16|889 Sarah Station Suite 624   |Holcomb                 |KS   |67851|Kelsey     |Richards |\n",
      "|7         |71.65 |gas_transport|NA         |6011360759745864   |0       |1325376308837349|1325376308152         |38.948089         |-78.540296        |22644        |fraud_Corwin-Collins                    |2019-01-01 00:05:08  |6d294ed2cc447d2c71c7171a3d54967c|M     |38.8432|-78.6003          |6018    |Designer, multimedia                         |1947-08-21|231 Flores Pass Suite 720     |Edinburg                |VA   |22824|Steven     |Williams |\n",
      "|8         |4.27  |misc_pos     |ACEEUS31   |4922710831011201   |0       |1325376318245892|1325376318278         |40.351813         |-79.958146        |15236        |fraud_Herzog Ltd                        |2019-01-01 00:05:18  |fc28024ce480f8ef21a32d64c93a29f5|F     |40.3359|-79.6607          |1472    |Public affairs consultant                    |1941-03-07|6888 Hicks Stream Suite 954   |Manor                   |PA   |15665|Heather    |Chase    |\n",
      "|9         |198.39|grocery_pos  |DEUTUS33TRF|2720830304681674   |0       |1325376361965234|1325376361857         |37.179198         |-87.485381        |42442        |fraud_Schoen, Kuphal and Nitzsche       |2019-01-01 00:06:01  |3b9014ea8fb80bd65de0b1463b00b00e|F     |36.522 |-87.34899999999999|151785  |Pathologist                                  |1974-03-28|21326 Taylor Squares Suite 708|Clarksville             |TN   |37040|Melissa    |Aguilar  |\n",
      "|10        |24.74 |grocery_pos  |           |4642894980163      |0       |1325376383967287|1325376383455         |40.275890999999994|-96.011548        |68348        |fraud_Rutherford-Mertz                  |2019-01-01 00:06:23  |d71c95ab6b7356dd74389d41df429c87|M     |40.7491|-95.038           |7297    |IT trainer                                   |1990-07-13|1831 Faith View Suite 653     |Clarinda                |IA   |51632|Eddie      |Mendez   |\n",
      "|11        |7.77  |shopping_net |DEUTUS33TRF|377234009633447    |0       |1325376413912233|1325376413859         |40.103866         |-78.624459        |15554        |fraud_Kerluke-Abshire                   |2019-01-01 00:06:53  |3c74776e558f1499a7824b556e474b1d|F     |39.3716|-77.8229          |1925    |Systems developer                            |1966-02-14|43576 Kristina Islands        |Shenandoah Junction     |WV   |25442|Theresa    |Blackwell|\n",
      "|12        |71.22 |grocery_pos  |DEUTUS33TRF|180042946491150    |0       |1325376416569264|1325376416443         |27.630593         |-82.308891        |33598        |fraud_Lockman Ltd                       |2019-01-01 00:06:56  |c1d9a7ddb1e34639fe82758de97f4abf|M     |27.7898|-82.7243          |341043  |Engineer, land                               |1989-02-28|3337 Lisa Divide              |Saint Petersburg        |FL   |33710|Charles    |Robles   |\n",
      "|13        |96.29 |grocery_pos  |ACEEUS31   |5559857416065248   |0       |1325376447442465|1325376447771         |41.65752          |-122.230347       |NULL         |fraud_Kiehn Inc                         |2019-01-01 00:07:27  |413636e759663f264aae1819a4d4f231|M     |41.6125|-122.5258         |589     |Systems analyst                              |1945-12-21|5916 Susan Bridge Apt. 939    |Grenada                 |CA   |96038|Jack       |Hill     |\n",
      "|14        |7.77  |shopping_pos |ACEEUS31   |3514865930894695   |0       |132537654399153 |1325376543282         |32.863258         |-106.520205       |NULL         |fraud_Beier-Hyatt                       |2019-01-01 00:09:03  |8a6293af5ed278dea14448ded2685fea|M     |32.9396|-105.8189         |899     |Naval architect                              |1967-08-30|1632 Cohen Drive Suite 639    |High Rolls Mountain Park|NM   |88325|Christopher|Castaneda|\n",
      "|15        |3.26  |shopping_net |CITIUS33CHI|6011999606625827   |0       |1325376560448213|1325376560435         |41.831174         |-74.335559        |12446        |fraud_Schmidt and Sons                  |2019-01-01 00:09:20  |baae0b096835c975857eea7e28dde3dc|M     |40.9918|-73.98            |4664    |Radiographer, diagnostic                     |1965-06-30|870 Rocha Drive               |Harrington Park         |NJ   |7640 |Ronald     |Carson   |\n",
      "|16        |327.0 |misc_net     |CITIUS33CHI|6011860238257910   |0       |132537664977977 |1325376649369         |36.384091999999995|-99.048472        |73852        |fraud_Lebsack and Sons                  |2019-01-01 00:10:49  |991c04803b4d4eeab30d6245a872e3d3|F     |36.385 |-98.0727          |1078    |Programme researcher, broadcasting/film/video|1952-07-06|44259 Beth Station Suite 215  |Lahoma                  |OK   |73754|Lisa       |Mendez   |\n",
      "|17        |341.67|shopping_pos |           |3565423334076143   |0       |1325376658780653|1325376658125         |38.674491         |-88.305767        |62824        |fraud_Mayert Group                      |2019-01-01 00:10:58  |f12cf52be2175703db789a4644c32f25|M     |38.9763|-87.3667          |4081    |Energy engineer                              |1938-03-15|4923 Campbell Pines Suite 717 |Carlisle                |IN   |47838|Nathan     |Thomas   |\n",
      "|18        |63.07 |food_dining  |APBCUS61   |2348245054386329   |0       |1325376674645606|1325376674800         |41.430274         |-79.492553        |16364        |fraud_Konopelski, Schneider and Hartmann|2019-01-01 00:11:14  |8500f3d459047eac8443307b1e8296e5|M     |42.1767|-79.9416          |2518    |Event organiser                              |1946-02-02|268 Hayes Rue Suite 811       |Harborcreek             |PA   |16421|Justin     |Gay      |\n",
      "|19        |44.71 |grocery_pos  |           |4956828990005111019|0       |132537675433224 |1325376754863         |40.079588         |-74.84808699999999|08016        |fraud_Schultz, Simonis and Little       |2019-01-01 00:12:34  |09eff9c806365e2a6be12c1bbab3d70e|M     |40.6747|-74.2239          |124967  |Operational researcher                       |1980-12-21|269 Sanchez Rapids            |Elizabeth               |NJ   |7208 |Kenneth    |Robinson |\n",
      "+----------+------+-------------+-----------+-------------------+--------+----------------+----------------------+------------------+------------------+-------------+----------------------------------------+---------------------+--------------------------------+------+-------+------------------+--------+---------------------------------------------+----------+------------------------------+------------------------+-----+-----+-----------+---------+\n",
      "only showing top 20 rows\n",
      "\n"
     ]
    }
   ],
   "source": [
    "# Function to split the name column by all special characters - create first and last name columns\n",
    "def split_person_name(df):\n",
    "    # Split person_name by any non-alphanumeric character (special characters)\n",
    "    # NOTE: this way, consecutive delimiters like \",\" will be considered as one, and will not take empty string as last name for example\n",
    "    split_col = split(col(\"person_name\"), \"[^a-zA-Z0-9]+\")\n",
    "    \n",
    "    # Create new columns \"first\" and \"last\" from the split, with trimming and capitalization\n",
    "    df = df.withColumn(\"first\", initcap(trim(split_col.getItem(0)))) \\\n",
    "           .withColumn(\"last\", initcap(trim(split_col.getItem(1))))\n",
    "    \n",
    "    return df\n",
    "\n",
    "# Apply the function to your DataFrame\n",
    "stg_df = split_person_name(stg_df).drop(\"person_name\")\n",
    "\n",
    "# Show the resulting DataFrame\n",
    "stg_df.show(truncate=False)"
   ]
  },
  {
   "cell_type": "code",
   "execution_count": 144,
   "id": "05802dad",
   "metadata": {},
   "outputs": [
    {
     "name": "stdout",
     "output_type": "stream",
     "text": [
      "+--------------+-------+\n",
      "|merchant_clean|  count|\n",
      "+--------------+-------+\n",
      "|         fraud|1296675|\n",
      "+--------------+-------+\n",
      "\n"
     ]
    }
   ],
   "source": [
    "# Clean up \"merchant\" name\n",
    "# Check if the all the values have \"fraud_\" prefix \n",
    "stg_df.withColumn(\"merchant_clean\", substring(col(\"merchant\"), 1, 5)).groupBy(\"merchant_clean\").count().show()\n",
    "# NOTE: Yes all records have \"fraud\" prefix\n",
    "\n",
    "# Clean up the merchant column\n",
    "stg_df = stg_df.withColumn(\"merchant\", split(col(\"merchant\"), \"fraud_\").getItem(1))"
   ]
  },
  {
   "cell_type": "markdown",
   "id": "c726c3f9",
   "metadata": {},
   "source": [
    "# 4. Data Quality Assurance\n",
    "1. Check for Duplicates:\n",
    "    - Ensure that there are no repeated records in the dataset that could lead to skewed analysis or double counting.\n",
    "    - Finding: No duplicated rows\n",
    "\n",
    "2. Completeness:\n",
    "    - Verify that all required fields and values are present and no critical data is missing (i.e. missing/null values or empty strings)\n",
    "    - Finding: merch_zipcode has 195973 null values and cc_bic has 144381 records with empty strings\n",
    "\n",
    "3. Accuracy:\n",
    "    - Confirm that the data correctly represents real-world values and events without errors or inconsistencies.\n",
    "    - Findings:\n",
    "        - Numerical columns like \"amt\" and \"city_pop\" should not have negative values - PASSED\n",
    "        - Boolean columns like \"is_fraud\" should have 0 or 1 values only - PASSED\n",
    "        - Columns with standardized code like \"state\" should have only specific number of chars - PASSED: All values are 2 characters and checked against the directory for the states in the US.\n",
    "        - Name columns like \"first\" and \"last\" name columns should consist actual names and not test datas - PASSED: All values are checked against NLP (probablepeople) for entity recognition\n",
    "        - Categorical columns like \"category\" should have proper categories: PASSED\n",
    "\n",
    "4. Timeliness:\n",
    "    - Ensure that the data is up to date and available within the expected time frame for its intended use.\n",
    "        - Findings: All datetime columns are loaded as string and parsing datetime string to datetime columns does not return error (and with proper date ranges)- PASSED\n",
    "\n",
    "5. Schema Validation:\n",
    "    - Check that the structure of the data (e.g., data types, field names, required columns) matches the defined schema or data model.\n",
    "        - Transformation done: Defined all new schema and apply to the dataset"
   ]
  },
  {
   "cell_type": "markdown",
   "id": "2cdd139e",
   "metadata": {},
   "source": [
    "## Check for Duplicates"
   ]
  },
  {
   "cell_type": "code",
   "execution_count": 145,
   "id": "d373103e",
   "metadata": {},
   "outputs": [
    {
     "name": "stderr",
     "output_type": "stream",
     "text": [
      "25/05/16 01:38:29 WARN RowBasedKeyValueBatch: Calling spill() on RowBasedKeyValueBatch. Will not spill but return 0.\n",
      "25/05/16 01:38:29 WARN RowBasedKeyValueBatch: Calling spill() on RowBasedKeyValueBatch. Will not spill but return 0.\n",
      "25/05/16 01:38:30 WARN RowBasedKeyValueBatch: Calling spill() on RowBasedKeyValueBatch. Will not spill but return 0.\n",
      "25/05/16 01:38:30 WARN RowBasedKeyValueBatch: Calling spill() on RowBasedKeyValueBatch. Will not spill but return 0.\n",
      "25/05/16 01:38:30 WARN RowBasedKeyValueBatch: Calling spill() on RowBasedKeyValueBatch. Will not spill but return 0.\n",
      "25/05/16 01:38:30 WARN RowBasedKeyValueBatch: Calling spill() on RowBasedKeyValueBatch. Will not spill but return 0.\n",
      "25/05/16 01:38:30 WARN RowBasedKeyValueBatch: Calling spill() on RowBasedKeyValueBatch. Will not spill but return 0.\n",
      "25/05/16 01:38:30 WARN RowBasedKeyValueBatch: Calling spill() on RowBasedKeyValueBatch. Will not spill but return 0.\n",
      "25/05/16 01:38:30 WARN RowBasedKeyValueBatch: Calling spill() on RowBasedKeyValueBatch. Will not spill but return 0.\n",
      "25/05/16 01:38:30 WARN RowBasedKeyValueBatch: Calling spill() on RowBasedKeyValueBatch. Will not spill but return 0.\n",
      "25/05/16 01:38:30 WARN RowBasedKeyValueBatch: Calling spill() on RowBasedKeyValueBatch. Will not spill but return 0.\n",
      "25/05/16 01:38:30 WARN RowBasedKeyValueBatch: Calling spill() on RowBasedKeyValueBatch. Will not spill but return 0.\n",
      "25/05/16 01:38:30 WARN RowBasedKeyValueBatch: Calling spill() on RowBasedKeyValueBatch. Will not spill but return 0.\n",
      "25/05/16 01:38:30 WARN RowBasedKeyValueBatch: Calling spill() on RowBasedKeyValueBatch. Will not spill but return 0.\n",
      "25/05/16 01:38:30 WARN RowBasedKeyValueBatch: Calling spill() on RowBasedKeyValueBatch. Will not spill but return 0.\n",
      "25/05/16 01:38:30 WARN RowBasedKeyValueBatch: Calling spill() on RowBasedKeyValueBatch. Will not spill but return 0.\n",
      "25/05/16 01:38:30 WARN RowBasedKeyValueBatch: Calling spill() on RowBasedKeyValueBatch. Will not spill but return 0.\n",
      "25/05/16 01:38:30 WARN RowBasedKeyValueBatch: Calling spill() on RowBasedKeyValueBatch. Will not spill but return 0.\n",
      "25/05/16 01:38:30 WARN RowBasedKeyValueBatch: Calling spill() on RowBasedKeyValueBatch. Will not spill but return 0.\n",
      "25/05/16 01:38:30 WARN RowBasedKeyValueBatch: Calling spill() on RowBasedKeyValueBatch. Will not spill but return 0.\n",
      "25/05/16 01:38:30 WARN RowBasedKeyValueBatch: Calling spill() on RowBasedKeyValueBatch. Will not spill but return 0.\n",
      "25/05/16 01:38:30 WARN RowBasedKeyValueBatch: Calling spill() on RowBasedKeyValueBatch. Will not spill but return 0.\n",
      "25/05/16 01:38:30 WARN RowBasedKeyValueBatch: Calling spill() on RowBasedKeyValueBatch. Will not spill but return 0.\n",
      "25/05/16 01:38:30 WARN RowBasedKeyValueBatch: Calling spill() on RowBasedKeyValueBatch. Will not spill but return 0.\n",
      "25/05/16 01:38:30 WARN RowBasedKeyValueBatch: Calling spill() on RowBasedKeyValueBatch. Will not spill but return 0.\n",
      "25/05/16 01:38:30 WARN RowBasedKeyValueBatch: Calling spill() on RowBasedKeyValueBatch. Will not spill but return 0.\n",
      "25/05/16 01:38:30 WARN RowBasedKeyValueBatch: Calling spill() on RowBasedKeyValueBatch. Will not spill but return 0.\n",
      "25/05/16 01:38:30 WARN RowBasedKeyValueBatch: Calling spill() on RowBasedKeyValueBatch. Will not spill but return 0.\n",
      "25/05/16 01:38:30 WARN RowBasedKeyValueBatch: Calling spill() on RowBasedKeyValueBatch. Will not spill but return 0.\n",
      "25/05/16 01:38:30 WARN RowBasedKeyValueBatch: Calling spill() on RowBasedKeyValueBatch. Will not spill but return 0.\n",
      "25/05/16 01:38:30 WARN RowBasedKeyValueBatch: Calling spill() on RowBasedKeyValueBatch. Will not spill but return 0.\n",
      "25/05/16 01:38:30 WARN RowBasedKeyValueBatch: Calling spill() on RowBasedKeyValueBatch. Will not spill but return 0.\n",
      "25/05/16 01:38:35 WARN RowBasedKeyValueBatch: Calling spill() on RowBasedKeyValueBatch. Will not spill but return 0.\n",
      "25/05/16 01:38:35 WARN RowBasedKeyValueBatch: Calling spill() on RowBasedKeyValueBatch. Will not spill but return 0.\n",
      "25/05/16 01:38:35 WARN RowBasedKeyValueBatch: Calling spill() on RowBasedKeyValueBatch. Will not spill but return 0.\n",
      "25/05/16 01:38:35 WARN RowBasedKeyValueBatch: Calling spill() on RowBasedKeyValueBatch. Will not spill but return 0.\n",
      "25/05/16 01:38:35 WARN RowBasedKeyValueBatch: Calling spill() on RowBasedKeyValueBatch. Will not spill but return 0.\n",
      "25/05/16 01:38:35 WARN RowBasedKeyValueBatch: Calling spill() on RowBasedKeyValueBatch. Will not spill but return 0.\n",
      "25/05/16 01:38:35 WARN RowBasedKeyValueBatch: Calling spill() on RowBasedKeyValueBatch. Will not spill but return 0.\n",
      "25/05/16 01:38:35 WARN RowBasedKeyValueBatch: Calling spill() on RowBasedKeyValueBatch. Will not spill but return 0.\n",
      "25/05/16 01:38:35 WARN RowBasedKeyValueBatch: Calling spill() on RowBasedKeyValueBatch. Will not spill but return 0.\n",
      "25/05/16 01:38:35 WARN RowBasedKeyValueBatch: Calling spill() on RowBasedKeyValueBatch. Will not spill but return 0.\n",
      "25/05/16 01:38:35 WARN RowBasedKeyValueBatch: Calling spill() on RowBasedKeyValueBatch. Will not spill but return 0.\n",
      "25/05/16 01:38:35 WARN RowBasedKeyValueBatch: Calling spill() on RowBasedKeyValueBatch. Will not spill but return 0.\n",
      "25/05/16 01:38:35 WARN RowBasedKeyValueBatch: Calling spill() on RowBasedKeyValueBatch. Will not spill but return 0.\n",
      "25/05/16 01:38:35 WARN RowBasedKeyValueBatch: Calling spill() on RowBasedKeyValueBatch. Will not spill but return 0.\n",
      "25/05/16 01:38:35 WARN RowBasedKeyValueBatch: Calling spill() on RowBasedKeyValueBatch. Will not spill but return 0.\n",
      "25/05/16 01:38:35 WARN RowBasedKeyValueBatch: Calling spill() on RowBasedKeyValueBatch. Will not spill but return 0.\n",
      "25/05/16 01:38:35 WARN RowBasedKeyValueBatch: Calling spill() on RowBasedKeyValueBatch. Will not spill but return 0.\n",
      "25/05/16 01:38:35 WARN RowBasedKeyValueBatch: Calling spill() on RowBasedKeyValueBatch. Will not spill but return 0.\n",
      "25/05/16 01:38:35 WARN RowBasedKeyValueBatch: Calling spill() on RowBasedKeyValueBatch. Will not spill but return 0.\n",
      "25/05/16 01:38:35 WARN RowBasedKeyValueBatch: Calling spill() on RowBasedKeyValueBatch. Will not spill but return 0.\n",
      "25/05/16 01:38:35 WARN RowBasedKeyValueBatch: Calling spill() on RowBasedKeyValueBatch. Will not spill but return 0.\n",
      "25/05/16 01:38:35 WARN RowBasedKeyValueBatch: Calling spill() on RowBasedKeyValueBatch. Will not spill but return 0.\n",
      "25/05/16 01:38:35 WARN RowBasedKeyValueBatch: Calling spill() on RowBasedKeyValueBatch. Will not spill but return 0.\n",
      "25/05/16 01:38:35 WARN RowBasedKeyValueBatch: Calling spill() on RowBasedKeyValueBatch. Will not spill but return 0.\n",
      "25/05/16 01:38:35 WARN RowBasedKeyValueBatch: Calling spill() on RowBasedKeyValueBatch. Will not spill but return 0.\n",
      "25/05/16 01:38:35 WARN RowBasedKeyValueBatch: Calling spill() on RowBasedKeyValueBatch. Will not spill but return 0.\n",
      "25/05/16 01:38:35 WARN RowBasedKeyValueBatch: Calling spill() on RowBasedKeyValueBatch. Will not spill but return 0.\n",
      "25/05/16 01:38:35 WARN RowBasedKeyValueBatch: Calling spill() on RowBasedKeyValueBatch. Will not spill but return 0.\n",
      "25/05/16 01:38:35 WARN RowBasedKeyValueBatch: Calling spill() on RowBasedKeyValueBatch. Will not spill but return 0.\n",
      "25/05/16 01:38:35 WARN RowBasedKeyValueBatch: Calling spill() on RowBasedKeyValueBatch. Will not spill but return 0.\n",
      "25/05/16 01:38:35 WARN RowBasedKeyValueBatch: Calling spill() on RowBasedKeyValueBatch. Will not spill but return 0.\n",
      "25/05/16 01:38:35 WARN RowBasedKeyValueBatch: Calling spill() on RowBasedKeyValueBatch. Will not spill but return 0.\n",
      "25/05/16 01:38:35 WARN RowBasedKeyValueBatch: Calling spill() on RowBasedKeyValueBatch. Will not spill but return 0.\n",
      "25/05/16 01:38:35 WARN RowBasedKeyValueBatch: Calling spill() on RowBasedKeyValueBatch. Will not spill but return 0.\n",
      "25/05/16 01:38:35 WARN RowBasedKeyValueBatch: Calling spill() on RowBasedKeyValueBatch. Will not spill but return 0.\n",
      "25/05/16 01:38:35 WARN RowBasedKeyValueBatch: Calling spill() on RowBasedKeyValueBatch. Will not spill but return 0.\n",
      "25/05/16 01:38:35 WARN RowBasedKeyValueBatch: Calling spill() on RowBasedKeyValueBatch. Will not spill but return 0.\n",
      "25/05/16 01:38:35 WARN RowBasedKeyValueBatch: Calling spill() on RowBasedKeyValueBatch. Will not spill but return 0.\n",
      "25/05/16 01:38:35 WARN RowBasedKeyValueBatch: Calling spill() on RowBasedKeyValueBatch. Will not spill but return 0.\n",
      "25/05/16 01:38:35 WARN RowBasedKeyValueBatch: Calling spill() on RowBasedKeyValueBatch. Will not spill but return 0.\n",
      "25/05/16 01:38:35 WARN RowBasedKeyValueBatch: Calling spill() on RowBasedKeyValueBatch. Will not spill but return 0.\n",
      "25/05/16 01:38:35 WARN RowBasedKeyValueBatch: Calling spill() on RowBasedKeyValueBatch. Will not spill but return 0.\n",
      "25/05/16 01:38:35 WARN RowBasedKeyValueBatch: Calling spill() on RowBasedKeyValueBatch. Will not spill but return 0.\n",
      "25/05/16 01:38:35 WARN RowBasedKeyValueBatch: Calling spill() on RowBasedKeyValueBatch. Will not spill but return 0.\n",
      "25/05/16 01:38:35 WARN RowBasedKeyValueBatch: Calling spill() on RowBasedKeyValueBatch. Will not spill but return 0.\n",
      "25/05/16 01:38:35 WARN RowBasedKeyValueBatch: Calling spill() on RowBasedKeyValueBatch. Will not spill but return 0.\n",
      "25/05/16 01:38:35 WARN RowBasedKeyValueBatch: Calling spill() on RowBasedKeyValueBatch. Will not spill but return 0.\n",
      "25/05/16 01:38:35 WARN RowBasedKeyValueBatch: Calling spill() on RowBasedKeyValueBatch. Will not spill but return 0.\n",
      "25/05/16 01:38:35 WARN RowBasedKeyValueBatch: Calling spill() on RowBasedKeyValueBatch. Will not spill but return 0.\n",
      "25/05/16 01:38:35 WARN RowBasedKeyValueBatch: Calling spill() on RowBasedKeyValueBatch. Will not spill but return 0.\n",
      "25/05/16 01:38:35 WARN RowBasedKeyValueBatch: Calling spill() on RowBasedKeyValueBatch. Will not spill but return 0.\n",
      "25/05/16 01:38:35 WARN RowBasedKeyValueBatch: Calling spill() on RowBasedKeyValueBatch. Will not spill but return 0.\n",
      "25/05/16 01:38:35 WARN RowBasedKeyValueBatch: Calling spill() on RowBasedKeyValueBatch. Will not spill but return 0.\n",
      "25/05/16 01:38:35 WARN RowBasedKeyValueBatch: Calling spill() on RowBasedKeyValueBatch. Will not spill but return 0.\n",
      "25/05/16 01:38:35 WARN RowBasedKeyValueBatch: Calling spill() on RowBasedKeyValueBatch. Will not spill but return 0.\n",
      "25/05/16 01:38:35 WARN RowBasedKeyValueBatch: Calling spill() on RowBasedKeyValueBatch. Will not spill but return 0.\n",
      "25/05/16 01:38:35 WARN RowBasedKeyValueBatch: Calling spill() on RowBasedKeyValueBatch. Will not spill but return 0.\n",
      "25/05/16 01:38:35 WARN RowBasedKeyValueBatch: Calling spill() on RowBasedKeyValueBatch. Will not spill but return 0.\n",
      "25/05/16 01:38:35 WARN RowBasedKeyValueBatch: Calling spill() on RowBasedKeyValueBatch. Will not spill but return 0.\n",
      "25/05/16 01:38:35 WARN RowBasedKeyValueBatch: Calling spill() on RowBasedKeyValueBatch. Will not spill but return 0.\n",
      "25/05/16 01:38:35 WARN RowBasedKeyValueBatch: Calling spill() on RowBasedKeyValueBatch. Will not spill but return 0.\n",
      "25/05/16 01:38:35 WARN RowBasedKeyValueBatch: Calling spill() on RowBasedKeyValueBatch. Will not spill but return 0.\n",
      "25/05/16 01:38:35 WARN RowBasedKeyValueBatch: Calling spill() on RowBasedKeyValueBatch. Will not spill but return 0.\n",
      "25/05/16 01:38:35 WARN RowBasedKeyValueBatch: Calling spill() on RowBasedKeyValueBatch. Will not spill but return 0.\n",
      "25/05/16 01:38:36 WARN RowBasedKeyValueBatch: Calling spill() on RowBasedKeyValueBatch. Will not spill but return 0.\n",
      "25/05/16 01:38:36 WARN RowBasedKeyValueBatch: Calling spill() on RowBasedKeyValueBatch. Will not spill but return 0.\n",
      "25/05/16 01:38:36 WARN RowBasedKeyValueBatch: Calling spill() on RowBasedKeyValueBatch. Will not spill but return 0.\n",
      "25/05/16 01:38:36 WARN RowBasedKeyValueBatch: Calling spill() on RowBasedKeyValueBatch. Will not spill but return 0.\n",
      "25/05/16 01:38:36 WARN RowBasedKeyValueBatch: Calling spill() on RowBasedKeyValueBatch. Will not spill but return 0.\n",
      "25/05/16 01:38:36 WARN RowBasedKeyValueBatch: Calling spill() on RowBasedKeyValueBatch. Will not spill but return 0.\n",
      "25/05/16 01:38:36 WARN RowBasedKeyValueBatch: Calling spill() on RowBasedKeyValueBatch. Will not spill but return 0.\n",
      "25/05/16 01:38:36 WARN RowBasedKeyValueBatch: Calling spill() on RowBasedKeyValueBatch. Will not spill but return 0.\n",
      "25/05/16 01:38:36 WARN RowBasedKeyValueBatch: Calling spill() on RowBasedKeyValueBatch. Will not spill but return 0.\n",
      "25/05/16 01:38:36 WARN RowBasedKeyValueBatch: Calling spill() on RowBasedKeyValueBatch. Will not spill but return 0.\n",
      "25/05/16 01:38:36 WARN RowBasedKeyValueBatch: Calling spill() on RowBasedKeyValueBatch. Will not spill but return 0.\n",
      "25/05/16 01:38:36 WARN RowBasedKeyValueBatch: Calling spill() on RowBasedKeyValueBatch. Will not spill but return 0.\n",
      "25/05/16 01:38:36 WARN RowBasedKeyValueBatch: Calling spill() on RowBasedKeyValueBatch. Will not spill but return 0.\n",
      "25/05/16 01:38:36 WARN RowBasedKeyValueBatch: Calling spill() on RowBasedKeyValueBatch. Will not spill but return 0.\n",
      "25/05/16 01:38:36 WARN RowBasedKeyValueBatch: Calling spill() on RowBasedKeyValueBatch. Will not spill but return 0.\n",
      "25/05/16 01:38:36 WARN RowBasedKeyValueBatch: Calling spill() on RowBasedKeyValueBatch. Will not spill but return 0.\n",
      "25/05/16 01:38:36 WARN RowBasedKeyValueBatch: Calling spill() on RowBasedKeyValueBatch. Will not spill but return 0.\n",
      "25/05/16 01:38:36 WARN RowBasedKeyValueBatch: Calling spill() on RowBasedKeyValueBatch. Will not spill but return 0.\n",
      "25/05/16 01:38:36 WARN RowBasedKeyValueBatch: Calling spill() on RowBasedKeyValueBatch. Will not spill but return 0.\n",
      "25/05/16 01:38:36 WARN RowBasedKeyValueBatch: Calling spill() on RowBasedKeyValueBatch. Will not spill but return 0.\n",
      "25/05/16 01:38:36 WARN RowBasedKeyValueBatch: Calling spill() on RowBasedKeyValueBatch. Will not spill but return 0.\n",
      "25/05/16 01:38:36 WARN RowBasedKeyValueBatch: Calling spill() on RowBasedKeyValueBatch. Will not spill but return 0.\n",
      "25/05/16 01:38:36 WARN RowBasedKeyValueBatch: Calling spill() on RowBasedKeyValueBatch. Will not spill but return 0.\n",
      "25/05/16 01:38:36 WARN RowBasedKeyValueBatch: Calling spill() on RowBasedKeyValueBatch. Will not spill but return 0.\n",
      "25/05/16 01:38:36 WARN RowBasedKeyValueBatch: Calling spill() on RowBasedKeyValueBatch. Will not spill but return 0.\n",
      "25/05/16 01:38:36 WARN RowBasedKeyValueBatch: Calling spill() on RowBasedKeyValueBatch. Will not spill but return 0.\n",
      "25/05/16 01:38:36 WARN RowBasedKeyValueBatch: Calling spill() on RowBasedKeyValueBatch. Will not spill but return 0.\n",
      "25/05/16 01:38:36 WARN RowBasedKeyValueBatch: Calling spill() on RowBasedKeyValueBatch. Will not spill but return 0.\n",
      "25/05/16 01:38:36 WARN RowBasedKeyValueBatch: Calling spill() on RowBasedKeyValueBatch. Will not spill but return 0.\n",
      "25/05/16 01:38:36 WARN RowBasedKeyValueBatch: Calling spill() on RowBasedKeyValueBatch. Will not spill but return 0.\n",
      "25/05/16 01:38:36 WARN RowBasedKeyValueBatch: Calling spill() on RowBasedKeyValueBatch. Will not spill but return 0.\n",
      "25/05/16 01:38:36 WARN RowBasedKeyValueBatch: Calling spill() on RowBasedKeyValueBatch. Will not spill but return 0.\n",
      "25/05/16 01:38:40 WARN RowBasedKeyValueBatch: Calling spill() on RowBasedKeyValueBatch. Will not spill but return 0.\n",
      "25/05/16 01:38:40 WARN RowBasedKeyValueBatch: Calling spill() on RowBasedKeyValueBatch. Will not spill but return 0.\n",
      "25/05/16 01:38:40 WARN RowBasedKeyValueBatch: Calling spill() on RowBasedKeyValueBatch. Will not spill but return 0.\n",
      "25/05/16 01:38:40 WARN RowBasedKeyValueBatch: Calling spill() on RowBasedKeyValueBatch. Will not spill but return 0.\n",
      "25/05/16 01:38:41 WARN RowBasedKeyValueBatch: Calling spill() on RowBasedKeyValueBatch. Will not spill but return 0.\n",
      "25/05/16 01:38:41 WARN RowBasedKeyValueBatch: Calling spill() on RowBasedKeyValueBatch. Will not spill but return 0.\n",
      "25/05/16 01:38:42 WARN RowBasedKeyValueBatch: Calling spill() on RowBasedKeyValueBatch. Will not spill but return 0.\n",
      "25/05/16 01:38:42 WARN RowBasedKeyValueBatch: Calling spill() on RowBasedKeyValueBatch. Will not spill but return 0.\n",
      "25/05/16 01:38:42 WARN RowBasedKeyValueBatch: Calling spill() on RowBasedKeyValueBatch. Will not spill but return 0.\n",
      "25/05/16 01:38:42 WARN RowBasedKeyValueBatch: Calling spill() on RowBasedKeyValueBatch. Will not spill but return 0.\n",
      "25/05/16 01:38:42 WARN RowBasedKeyValueBatch: Calling spill() on RowBasedKeyValueBatch. Will not spill but return 0.\n",
      "25/05/16 01:38:42 WARN RowBasedKeyValueBatch: Calling spill() on RowBasedKeyValueBatch. Will not spill but return 0.\n",
      "25/05/16 01:38:42 WARN RowBasedKeyValueBatch: Calling spill() on RowBasedKeyValueBatch. Will not spill but return 0.\n",
      "25/05/16 01:38:42 WARN RowBasedKeyValueBatch: Calling spill() on RowBasedKeyValueBatch. Will not spill but return 0.\n",
      "25/05/16 01:38:42 WARN RowBasedKeyValueBatch: Calling spill() on RowBasedKeyValueBatch. Will not spill but return 0.\n",
      "25/05/16 01:38:42 WARN RowBasedKeyValueBatch: Calling spill() on RowBasedKeyValueBatch. Will not spill but return 0.\n",
      "25/05/16 01:38:42 WARN RowBasedKeyValueBatch: Calling spill() on RowBasedKeyValueBatch. Will not spill but return 0.\n",
      "25/05/16 01:38:42 WARN RowBasedKeyValueBatch: Calling spill() on RowBasedKeyValueBatch. Will not spill but return 0.\n",
      "25/05/16 01:38:42 WARN RowBasedKeyValueBatch: Calling spill() on RowBasedKeyValueBatch. Will not spill but return 0.\n",
      "25/05/16 01:38:42 WARN RowBasedKeyValueBatch: Calling spill() on RowBasedKeyValueBatch. Will not spill but return 0.\n",
      "25/05/16 01:38:42 WARN RowBasedKeyValueBatch: Calling spill() on RowBasedKeyValueBatch. Will not spill but return 0.\n",
      "25/05/16 01:38:42 WARN RowBasedKeyValueBatch: Calling spill() on RowBasedKeyValueBatch. Will not spill but return 0.\n",
      "25/05/16 01:38:42 WARN RowBasedKeyValueBatch: Calling spill() on RowBasedKeyValueBatch. Will not spill but return 0.\n",
      "25/05/16 01:38:42 WARN RowBasedKeyValueBatch: Calling spill() on RowBasedKeyValueBatch. Will not spill but return 0.\n",
      "25/05/16 01:38:42 WARN RowBasedKeyValueBatch: Calling spill() on RowBasedKeyValueBatch. Will not spill but return 0.\n",
      "25/05/16 01:38:42 WARN RowBasedKeyValueBatch: Calling spill() on RowBasedKeyValueBatch. Will not spill but return 0.\n",
      "25/05/16 01:38:42 WARN RowBasedKeyValueBatch: Calling spill() on RowBasedKeyValueBatch. Will not spill but return 0.\n",
      "25/05/16 01:38:42 WARN RowBasedKeyValueBatch: Calling spill() on RowBasedKeyValueBatch. Will not spill but return 0.\n",
      "25/05/16 01:38:42 WARN RowBasedKeyValueBatch: Calling spill() on RowBasedKeyValueBatch. Will not spill but return 0.\n",
      "25/05/16 01:38:42 WARN RowBasedKeyValueBatch: Calling spill() on RowBasedKeyValueBatch. Will not spill but return 0.\n",
      "25/05/16 01:38:42 WARN RowBasedKeyValueBatch: Calling spill() on RowBasedKeyValueBatch. Will not spill but return 0.\n",
      "25/05/16 01:38:42 WARN RowBasedKeyValueBatch: Calling spill() on RowBasedKeyValueBatch. Will not spill but return 0.\n",
      "25/05/16 01:38:42 WARN RowBasedKeyValueBatch: Calling spill() on RowBasedKeyValueBatch. Will not spill but return 0.\n",
      "[Stage 686:====>                                                  (1 + 11) / 12]\r"
     ]
    },
    {
     "name": "stdout",
     "output_type": "stream",
     "text": [
      "+----------+---+--------+------+------+--------+--------------+----------------------+---------+----------+-------------+--------+---------------------+---------+------+---+----+--------+---+---+------+----+-----+---+-----+----+\n",
      "|Unnamed: 0|amt|category|cc_bic|cc_num|is_fraud|merch_eff_time|merch_last_update_time|merch_lat|merch_long|merch_zipcode|merchant|trans_date_trans_time|trans_num|gender|lat|long|city_pop|job|dob|street|city|state|zip|first|last|\n",
      "+----------+---+--------+------+------+--------+--------------+----------------------+---------+----------+-------------+--------+---------------------+---------+------+---+----+--------+---+---+------+----+-----+---+-----+----+\n",
      "+----------+---+--------+------+------+--------+--------------+----------------------+---------+----------+-------------+--------+---------------------+---------+------+---+----+--------+---+---+------+----+-----+---+-----+----+\n",
      "\n"
     ]
    },
    {
     "name": "stderr",
     "output_type": "stream",
     "text": [
      "                                                                                \r"
     ]
    }
   ],
   "source": [
    "# Data Quality Check - Check for Duplicates\n",
    "# Return records with duplicate values across all columns\n",
    "stg_df.exceptAll(stg_df.dropDuplicates()).show()\n",
    "# NOTE: Passed - 0 duplicate records"
   ]
  },
  {
   "cell_type": "markdown",
   "id": "b7b62bb0",
   "metadata": {},
   "source": [
    "## Completeness"
   ]
  },
  {
   "cell_type": "code",
   "execution_count": 146,
   "id": "573582d2",
   "metadata": {},
   "outputs": [
    {
     "name": "stdout",
     "output_type": "stream",
     "text": [
      "+----------+---+--------+------+------+--------+--------------+----------------------+---------+----------+-------------+--------+---------------------+---------+------+---+----+--------+---+---+------+----+-----+---+-----+----+\n",
      "|Unnamed: 0|amt|category|cc_bic|cc_num|is_fraud|merch_eff_time|merch_last_update_time|merch_lat|merch_long|merch_zipcode|merchant|trans_date_trans_time|trans_num|gender|lat|long|city_pop|job|dob|street|city|state|zip|first|last|\n",
      "+----------+---+--------+------+------+--------+--------------+----------------------+---------+----------+-------------+--------+---------------------+---------+------+---+----+--------+---+---+------+----+-----+---+-----+----+\n",
      "+----------+---+--------+------+------+--------+--------------+----------------------+---------+----------+-------------+--------+---------------------+---------+------+---+----+--------+---+---+------+----+-----+---+-----+----+\n",
      "\n"
     ]
    },
    {
     "name": "stderr",
     "output_type": "stream",
     "text": [
      "                                                                                \r"
     ]
    }
   ],
   "source": [
    "stg_df.filter(col(\"merchant\").isNull()).show()"
   ]
  },
  {
   "cell_type": "code",
   "execution_count": 147,
   "id": "1e8f1fb6",
   "metadata": {},
   "outputs": [
    {
     "name": "stderr",
     "output_type": "stream",
     "text": [
      "[Stage 690:>                                                      (0 + 16) / 16]\r"
     ]
    },
    {
     "name": "stdout",
     "output_type": "stream",
     "text": [
      "+----------+---+--------+------+------+--------+--------------+----------------------+---------+----------+-------------+--------+---------------------+---------+------+---+----+--------+---+---+------+----+-----+---+-----+----+\n",
      "|Unnamed: 0|amt|category|cc_bic|cc_num|is_fraud|merch_eff_time|merch_last_update_time|merch_lat|merch_long|merch_zipcode|merchant|trans_date_trans_time|trans_num|gender|lat|long|city_pop|job|dob|street|city|state|zip|first|last|\n",
      "+----------+---+--------+------+------+--------+--------------+----------------------+---------+----------+-------------+--------+---------------------+---------+------+---+----+--------+---+---+------+----+-----+---+-----+----+\n",
      "|         0|  0|       0|     0|     0|       0|             0|                     0|        0|         0|       195973|       0|                    0|        0|     0|  0|   0|       0|  0|  0|     0|   0|    0|  0|    0|   0|\n",
      "+----------+---+--------+------+------+--------+--------------+----------------------+---------+----------+-------------+--------+---------------------+---------+------+---+----+--------+---+---+------+----+-----+---+-----+----+\n",
      "\n"
     ]
    },
    {
     "name": "stderr",
     "output_type": "stream",
     "text": [
      "                                                                                \r"
     ]
    }
   ],
   "source": [
    "# Data Quality Check - Completeness\n",
    "# Check completeness: Count null values in each column\n",
    "stg_df.select(*(sum(col(c).isNull().cast(\"int\")).alias(c) for c in stg_df.columns)).show()\n",
    "\n",
    "# NOTE: \"merch_zipcode\" has nulls"
   ]
  },
  {
   "cell_type": "code",
   "execution_count": 148,
   "id": "fa4b1174",
   "metadata": {},
   "outputs": [
    {
     "name": "stderr",
     "output_type": "stream",
     "text": [
      "[Stage 693:>                                                      (0 + 16) / 16]\r"
     ]
    },
    {
     "name": "stdout",
     "output_type": "stream",
     "text": [
      "+----------+---+--------+------+------+--------+--------------+----------------------+---------+----------+-------------+--------+---------------------+---------+------+---+----+--------+---+---+------+----+-----+---+-----+----+\n",
      "|Unnamed: 0|amt|category|cc_bic|cc_num|is_fraud|merch_eff_time|merch_last_update_time|merch_lat|merch_long|merch_zipcode|merchant|trans_date_trans_time|trans_num|gender|lat|long|city_pop|job|dob|street|city|state|zip|first|last|\n",
      "+----------+---+--------+------+------+--------+--------------+----------------------+---------+----------+-------------+--------+---------------------+---------+------+---+----+--------+---+---+------+----+-----+---+-----+----+\n",
      "|         0|  0|       0|144381|     0|       0|             0|                     0|        0|         0|            0|       0|                    0|        0|     0|  0|   0|       0|  0|  0|     0|   0|    0|  0|    0|   0|\n",
      "+----------+---+--------+------+------+--------+--------------+----------------------+---------+----------+-------------+--------+---------------------+---------+------+---+----+--------+---+---+------+----+-----+---+-----+----+\n",
      "\n"
     ]
    },
    {
     "name": "stderr",
     "output_type": "stream",
     "text": [
      "                                                                                \r"
     ]
    }
   ],
   "source": [
    "# Data Quality Check - Completeness\n",
    "# Check completeness: Count columns with empty string values in each column\n",
    "stg_df.select(*(sum((col(c)==\"\").cast(\"int\")).alias(c) for c in stg_df.columns)).show()\n",
    "\n",
    "# NOTE: \"cc_bic\" has empty strings"
   ]
  },
  {
   "cell_type": "markdown",
   "id": "a7640623",
   "metadata": {},
   "source": [
    "## Accuracy"
   ]
  },
  {
   "cell_type": "code",
   "execution_count": 149,
   "id": "2d2e9059",
   "metadata": {},
   "outputs": [
    {
     "name": "stdout",
     "output_type": "stream",
     "text": [
      "The column 'amt' has no null or negative records - PASSED\n"
     ]
    },
    {
     "name": "stderr",
     "output_type": "stream",
     "text": [
      "[Stage 699:>                                                      (0 + 16) / 16]\r"
     ]
    },
    {
     "name": "stdout",
     "output_type": "stream",
     "text": [
      "The column 'city_pop' has no null or negative records - PASSED\n"
     ]
    },
    {
     "name": "stderr",
     "output_type": "stream",
     "text": [
      "                                                                                \r"
     ]
    }
   ],
   "source": [
    "# For numerical columns - check there's no negative values\n",
    "for c in [\"amt\", \"city_pop\"]:\n",
    "    null_or_negative_counts = stg_df.filter(col(c).cast(\"int\") <= 0).count()\n",
    "    if null_or_negative_counts > 0:\n",
    "        print(f\"The column {c} has {null_or_negative_counts} records\")\n",
    "    else:\n",
    "        print(f\"The column '{c}' has no null or negative records - PASSED\")"
   ]
  },
  {
   "cell_type": "code",
   "execution_count": 150,
   "id": "46f9adee",
   "metadata": {},
   "outputs": [
    {
     "name": "stdout",
     "output_type": "stream",
     "text": [
      "+--------+\n",
      "|is_fraud|\n",
      "+--------+\n",
      "|       0|\n",
      "|       1|\n",
      "+--------+\n",
      "\n"
     ]
    },
    {
     "name": "stderr",
     "output_type": "stream",
     "text": [
      "                                                                                \r"
     ]
    }
   ],
   "source": [
    "# Check for boolean column - \"is_fraud\" to have 0 and 1 value only\n",
    "stg_df.select(\"is_fraud\").distinct().show()\n",
    "\n",
    "# NOTE: PASSED - only 0 and 1"
   ]
  },
  {
   "cell_type": "code",
   "execution_count": 151,
   "id": "7406c5b5",
   "metadata": {},
   "outputs": [
    {
     "name": "stdout",
     "output_type": "stream",
     "text": [
      "+-------------------+-------+\n",
      "|merch_zipcode_count|  count|\n",
      "+-------------------+-------+\n",
      "|                  5|1100702|\n",
      "+-------------------+-------+\n",
      "\n"
     ]
    }
   ],
   "source": [
    "# Check for zipcode to have only 5 characters only\n",
    "stg_df.filter(col(\"merch_zipcode\").isNotNull()).withColumn(\n",
    "    \"merch_zipcode_count\", length(\"merch_zipcode\")\n",
    ").groupBy(\"merch_zipcode_count\").count().show()\n",
    "# NOTE: PASSED - non-null values only have 5 chars"
   ]
  },
  {
   "cell_type": "code",
   "execution_count": 152,
   "id": "2eb62e52",
   "metadata": {},
   "outputs": [
    {
     "name": "stderr",
     "output_type": "stream",
     "text": [
      "[Stage 708:>                                                      (0 + 16) / 16]\r"
     ]
    },
    {
     "name": "stdout",
     "output_type": "stream",
     "text": [
      "+-----------+-------+\n",
      "|state_count|  count|\n",
      "+-----------+-------+\n",
      "|          2|1296675|\n",
      "+-----------+-------+\n",
      "\n"
     ]
    },
    {
     "name": "stderr",
     "output_type": "stream",
     "text": [
      "                                                                                \r"
     ]
    }
   ],
   "source": [
    "# Check for state code to have only 2 characters only\n",
    "stg_df.filter(col(\"state\").isNotNull()).withColumn(\n",
    "    \"state_count\", length(\"state\")\n",
    ").groupBy(\"state_count\").count().show()\n",
    "# NOTE: PASSED - non-null values only have 2 chars"
   ]
  },
  {
   "cell_type": "code",
   "execution_count": 153,
   "id": "3941f3d1",
   "metadata": {},
   "outputs": [
    {
     "name": "stderr",
     "output_type": "stream",
     "text": [
      "                                                                                \r"
     ]
    },
    {
     "data": {
      "text/plain": [
       "[]"
      ]
     },
     "execution_count": 153,
     "metadata": {},
     "output_type": "execute_result"
    }
   ],
   "source": [
    "# Use python library \"us\" to check if the state codes are legit\n",
    "states_list = [str(state_code) for state_code in stg_df.select(\"state\").distinct().collect()]\n",
    "illegible_state_codes = [us.states.lookup(state_code) for state_code in states_list if us.states.lookup(state_code)]\n",
    "illegible_state_codes\n",
    "# NOTE: PASSED - All state codes are legit"
   ]
  },
  {
   "cell_type": "code",
   "execution_count": 154,
   "id": "27c6e3d2",
   "metadata": {},
   "outputs": [
    {
     "name": "stderr",
     "output_type": "stream",
     "text": [
      "                                                                                \r"
     ]
    },
    {
     "name": "stdout",
     "output_type": "stream",
     "text": [
      "+-----------+-----+------+\n",
      "|      first|count| label|\n",
      "+-----------+-----+------+\n",
      "|Christopher|26669|Person|\n",
      "|     Robert|21667|Person|\n",
      "|    Jessica|20581|Person|\n",
      "|      James|20039|Person|\n",
      "|    Michael|20009|Person|\n",
      "|      David|19965|Person|\n",
      "|   Jennifer|16940|Person|\n",
      "|    William|16371|Person|\n",
      "|       Mary|16346|Person|\n",
      "|       John|16325|Person|\n",
      "|   Margaret|15312|Person|\n",
      "|     Joseph|14792|Person|\n",
      "|     Daniel|13867|Person|\n",
      "|       Lisa|13767|Person|\n",
      "|     Amanda|13310|Person|\n",
      "|     Ashley|13296|Person|\n",
      "|    Jeffrey|12831|Person|\n",
      "|   Michelle|12601|Person|\n",
      "|     Samuel|12179|Person|\n",
      "|   Kimberly|11815|Person|\n",
      "+-----------+-----+------+\n",
      "only showing top 20 rows\n",
      "\n"
     ]
    },
    {
     "name": "stderr",
     "output_type": "stream",
     "text": [
      "[Stage 722:=============>                                         (4 + 12) / 16]\r"
     ]
    },
    {
     "name": "stdout",
     "output_type": "stream",
     "text": [
      "+-----+-----+-----+\n",
      "|first|count|label|\n",
      "+-----+-----+-----+\n",
      "+-----+-----+-----+\n",
      "\n"
     ]
    },
    {
     "name": "stderr",
     "output_type": "stream",
     "text": [
      "[Stage 722:================================================>      (14 + 2) / 16]\r"
     ]
    }
   ],
   "source": [
    "## Check if first names are legit US names using Python Library/NLP - probablepeople\n",
    "def label_names(text: str):\n",
    "    # Label using the probablepeople library - returns the tab either Person or Corporation\n",
    "    return pp.tag(text)[-1]\n",
    "\n",
    "udf_label_names = udf(lambda x: label_names(x), returnType=StringType())\n",
    "\n",
    "agg_first_names = stg_df.groupBy(\"first\").count().sort(desc(\"count\")).withColumn(\"label\", udf_label_names(col(\"first\")))\n",
    "agg_first_names.show()\n",
    "\n",
    "agg_first_names.filter(col(\"label\")!= \"Person\").show()\n",
    "\n",
    "# NOTE: PASSED - All first names are proper US-names"
   ]
  },
  {
   "cell_type": "code",
   "execution_count": 155,
   "id": "f9b70d13",
   "metadata": {},
   "outputs": [
    {
     "name": "stderr",
     "output_type": "stream",
     "text": [
      "                                                                                \r"
     ]
    },
    {
     "name": "stdout",
     "output_type": "stream",
     "text": [
      "+---------+-----+------+\n",
      "|     last|count| label|\n",
      "+---------+-----+------+\n",
      "|    Smith|28794|Person|\n",
      "| Williams|23605|Person|\n",
      "|    Davis|21910|Person|\n",
      "|  Johnson|20034|Person|\n",
      "|Rodriguez|17394|Person|\n",
      "| Martinez|14805|Person|\n",
      "|    Jones|13976|Person|\n",
      "|    Lewis|12753|Person|\n",
      "| Gonzalez|11799|Person|\n",
      "|   Miller|11698|Person|\n",
      "|     Lowe|11308|Person|\n",
      "|   Martin|11252|Person|\n",
      "|     Bell|10784|Person|\n",
      "|    Perez| 9729|Person|\n",
      "| Robinson| 9287|Person|\n",
      "|   Bishop| 9254|Person|\n",
      "|   Garcia| 9186|Person|\n",
      "|  Mendoza| 8763|Person|\n",
      "|   Thomas| 8724|Person|\n",
      "|    Clark| 8715|Person|\n",
      "+---------+-----+------+\n",
      "only showing top 20 rows\n",
      "\n"
     ]
    },
    {
     "name": "stderr",
     "output_type": "stream",
     "text": [
      "[Stage 731:==========>                                            (3 + 13) / 16]\r"
     ]
    },
    {
     "name": "stdout",
     "output_type": "stream",
     "text": [
      "+----+-----+-----+\n",
      "|last|count|label|\n",
      "+----+-----+-----+\n",
      "+----+-----+-----+\n",
      "\n"
     ]
    },
    {
     "name": "stderr",
     "output_type": "stream",
     "text": [
      "[Stage 731:============================================>          (13 + 3) / 16]\r"
     ]
    }
   ],
   "source": [
    "## Check if last names are legit US names using Python Library/NLP - probablepeople\n",
    "agg_last_names = stg_df.groupBy(\"last\").count().sort(desc(\"count\")).withColumn(\"label\", udf_label_names(col(\"last\")))\n",
    "agg_last_names.show()\n",
    "\n",
    "agg_last_names.filter(col(\"label\")!= \"Person\").show()"
   ]
  },
  {
   "cell_type": "code",
   "execution_count": 156,
   "id": "179dae58",
   "metadata": {},
   "outputs": [
    {
     "name": "stdout",
     "output_type": "stream",
     "text": [
      "+--------------+------+\n",
      "|      category| count|\n",
      "+--------------+------+\n",
      "|        travel| 40507|\n",
      "|      misc_net| 63287|\n",
      "|   grocery_pos|123638|\n",
      "|     kids_pets|113035|\n",
      "|  shopping_net| 97543|\n",
      "|   grocery_net| 45452|\n",
      "|   food_dining| 91461|\n",
      "| gas_transport|131659|\n",
      "| personal_care| 90758|\n",
      "|health_fitness| 85879|\n",
      "| entertainment| 94014|\n",
      "|          home|123115|\n",
      "|      misc_pos| 79655|\n",
      "|  shopping_pos|116672|\n",
      "+--------------+------+\n",
      "\n"
     ]
    },
    {
     "name": "stderr",
     "output_type": "stream",
     "text": [
      "                                                                                \r"
     ]
    }
   ],
   "source": [
    "# Check if categorical column - category is proper\n",
    "stg_df.groupBy(\"category\").count().show()\n",
    "\n",
    "# NOTE: Passed"
   ]
  },
  {
   "cell_type": "code",
   "execution_count": 157,
   "id": "88f4dfbe",
   "metadata": {},
   "outputs": [
    {
     "name": "stderr",
     "output_type": "stream",
     "text": [
      "[Stage 735:>                                                      (0 + 16) / 16]\r"
     ]
    },
    {
     "name": "stdout",
     "output_type": "stream",
     "text": [
      "+--------------------+-----+\n",
      "|                 job|count|\n",
      "+--------------------+-----+\n",
      "|   Film/video editor| 9779|\n",
      "| Exhibition designer| 9199|\n",
      "|     Naval architect| 8684|\n",
      "|Surveyor, land/ge...| 8680|\n",
      "|  Materials engineer| 8270|\n",
      "|Designer, ceramic...| 8225|\n",
      "|   Systems developer| 7700|\n",
      "|          IT trainer| 7679|\n",
      "|   Financial adviser| 7659|\n",
      "|Environmental con...| 7547|\n",
      "|Chartered public ...| 7210|\n",
      "|Scientist, audiol...| 7174|\n",
      "|Chief Executive O...| 7172|\n",
      "|Copywriter, adver...| 7146|\n",
      "|         Comptroller| 6730|\n",
      "|                 Sub| 6701|\n",
      "|          Podiatrist| 6653|\n",
      "|Agricultural cons...| 6642|\n",
      "|           Paramedic| 6635|\n",
      "|Magazine features...| 6602|\n",
      "+--------------------+-----+\n",
      "only showing top 20 rows\n",
      "\n"
     ]
    },
    {
     "name": "stderr",
     "output_type": "stream",
     "text": [
      "                                                                                \r"
     ]
    }
   ],
   "source": [
    "# Check if categorical column - job is proper\n",
    "stg_df.groupBy(\"job\").count().sort(desc(\"count\")).show()\n",
    "# NOTE: Passed"
   ]
  },
  {
   "cell_type": "markdown",
   "id": "f0669131",
   "metadata": {},
   "source": [
    "## Timeliness\n"
   ]
  },
  {
   "cell_type": "markdown",
   "id": "9386b1f0",
   "metadata": {},
   "source": [
    "## Parse Datetime"
   ]
  },
  {
   "cell_type": "code",
   "execution_count": 158,
   "id": "d9db95d5",
   "metadata": {},
   "outputs": [],
   "source": [
    "# Parse datetime string to datetime cols - including dob to be date col\n",
    "datetime_cols = [\"merch_eff_time\", \"trans_date_trans_time\", \"merch_last_update_time\"]\n",
    "\n",
    "stg_df = stg_df.withColumns(\n",
    "    {\n",
    "        colname: from_utc_timestamp(\n",
    "            to_timestamp(col(\"trans_date_trans_time\"), \"yyyy-MM-dd HH:mm:ss\"),\n",
    "            \"Asia/Singapore\",\n",
    "        )\n",
    "        for colname in datetime_cols\n",
    "    }\n",
    ").withColumn(\"dob\", to_date(col(\"dob\"), \"yyyy-MM-dd\")) # Parse DOB to date"
   ]
  },
  {
   "cell_type": "code",
   "execution_count": 159,
   "id": "1d6e7690",
   "metadata": {},
   "outputs": [
    {
     "name": "stderr",
     "output_type": "stream",
     "text": [
      "                                                                                \r"
     ]
    },
    {
     "name": "stdout",
     "output_type": "stream",
     "text": [
      "The date range for column 'merch_eff_time' is 2019-01-01 to 2020-06-21\n"
     ]
    },
    {
     "name": "stderr",
     "output_type": "stream",
     "text": [
      "                                                                                \r"
     ]
    },
    {
     "name": "stdout",
     "output_type": "stream",
     "text": [
      "The date range for column 'trans_date_trans_time' is 2019-01-01 to 2020-06-21\n",
      "The date range for column 'merch_last_update_time' is 2019-01-01 to 2020-06-21\n"
     ]
    },
    {
     "name": "stderr",
     "output_type": "stream",
     "text": [
      "[Stage 759:>                                                      (0 + 16) / 16]\r"
     ]
    },
    {
     "name": "stdout",
     "output_type": "stream",
     "text": [
      "The date range for column 'dob' is 1924-10-30 to 2005-01-29\n"
     ]
    },
    {
     "name": "stderr",
     "output_type": "stream",
     "text": [
      "                                                                                \r"
     ]
    }
   ],
   "source": [
    "# Check the date range for all datetime columns\n",
    "for c in [*datetime_cols, \"dob\"]:\n",
    "    print(f\"The date range for column '{c}' is {stg_df.select(min(c)).collect()[0][0].strftime(\"%Y-%m-%d\")} to {stg_df.select(max(c)).collect()[0][0].strftime(\"%Y-%m-%d\")}\")\n",
    "\n",
    "\n",
    "# NOTE: The date range seems normal for datetime cols - PASSED"
   ]
  },
  {
   "cell_type": "markdown",
   "id": "6ac3faa8",
   "metadata": {},
   "source": [
    "## Schema validation \n",
    "- Convert columns to appropriate dtypes"
   ]
  },
  {
   "cell_type": "code",
   "execution_count": 160,
   "id": "2f4cb5ab",
   "metadata": {},
   "outputs": [
    {
     "name": "stdout",
     "output_type": "stream",
     "text": [
      "root\n",
      " |-- Unnamed: 0: string (nullable = true)\n",
      " |-- amt: string (nullable = true)\n",
      " |-- category: string (nullable = true)\n",
      " |-- cc_bic: string (nullable = true)\n",
      " |-- cc_num: string (nullable = true)\n",
      " |-- is_fraud: string (nullable = true)\n",
      " |-- merch_eff_time: timestamp (nullable = true)\n",
      " |-- merch_last_update_time: timestamp (nullable = true)\n",
      " |-- merch_lat: string (nullable = true)\n",
      " |-- merch_long: string (nullable = true)\n",
      " |-- merch_zipcode: string (nullable = true)\n",
      " |-- merchant: string (nullable = true)\n",
      " |-- trans_date_trans_time: timestamp (nullable = true)\n",
      " |-- trans_num: string (nullable = true)\n",
      " |-- gender: string (nullable = true)\n",
      " |-- lat: string (nullable = true)\n",
      " |-- long: string (nullable = true)\n",
      " |-- city_pop: string (nullable = true)\n",
      " |-- job: string (nullable = true)\n",
      " |-- dob: date (nullable = true)\n",
      " |-- street: string (nullable = true)\n",
      " |-- city: string (nullable = true)\n",
      " |-- state: string (nullable = true)\n",
      " |-- zip: string (nullable = true)\n",
      " |-- first: string (nullable = true)\n",
      " |-- last: string (nullable = true)\n",
      "\n"
     ]
    }
   ],
   "source": [
    "stg_df.printSchema()"
   ]
  },
  {
   "cell_type": "code",
   "execution_count": 161,
   "id": "897d9237",
   "metadata": {},
   "outputs": [
    {
     "name": "stdout",
     "output_type": "stream",
     "text": [
      "+----------+------+-------------+-----------+-------------------+--------+-------------------+----------------------+------------------+------------------+-------------+--------------------+---------------------+--------------------+------+-------+------------------+--------+--------------------+----------+--------------------+--------------------+-----+-----+-----------+---------+\n",
      "|Unnamed: 0|   amt|     category|     cc_bic|             cc_num|is_fraud|     merch_eff_time|merch_last_update_time|         merch_lat|        merch_long|merch_zipcode|            merchant|trans_date_trans_time|           trans_num|gender|    lat|              long|city_pop|                 job|       dob|              street|                city|state|  zip|      first|     last|\n",
      "+----------+------+-------------+-----------+-------------------+--------+-------------------+----------------------+------------------+------------------+-------------+--------------------+---------------------+--------------------+------+-------+------------------+--------+--------------------+----------+--------------------+--------------------+-----+-----+-----------+---------+\n",
      "|         0|  4.97|     misc_net|CITIUS33CHI|   2703186189652095|       0|2019-01-01 08:00:18|   2019-01-01 08:00:18|         36.011293|        -82.048315|        28705|Rippin, Kub and Mann|  2019-01-01 08:00:18|0b242abb623afc578...|     F|36.0788|          -81.1781|    3495|Psychologist, cou...|1988-03-09|      561 Perry Cove|      Moravian Falls|   NC|28654|   Jennifer|    Banks|\n",
      "|         1|107.23|  grocery_pos|   ADMDUS41|       630423337322|       0|2019-01-01 08:00:44|   2019-01-01 08:00:44|49.159046999999994|       -118.186462|         NULL|Heller, Gutmann a...|  2019-01-01 08:00:44|1f76529f857473494...|     F|48.8878|         -118.2105|     149|Special education...|1978-06-21|43039 Riley Green...|              Orient|   WA|99160|  Stephanie|     Gill|\n",
      "|         2|220.11|entertainment|       Null|     38859492057661|       0|2019-01-01 08:00:51|   2019-01-01 08:00:51|         43.150704|       -112.154481|        83236|      Lind-Buckridge|  2019-01-01 08:00:51|a1a22d70485983eac...|     M|42.1808|          -112.262|    4154|Nature conservati...|1962-01-19|594 White Dale Su...|          Malad City|   ID|83252|     Edward|  Sanchez|\n",
      "|         3|  45.0|gas_transport|DEUTUS33TRF|   3534093764340240|       0|2019-01-01 08:01:16|   2019-01-01 08:01:16|         47.034331|       -112.561071|         NULL|Kutch, Hermiston ...|  2019-01-01 08:01:16|6b849c168bdad6f86...|     M|46.2306|         -112.1138|    1939|     Patent attorney|1967-01-12|9443 Cynthia Cour...|             Boulder|   MT|59632|     Jeremy|    White|\n",
      "|         4| 41.96|     misc_pos|   APBCUS61|    375534208663984|       0|2019-01-01 08:03:06|   2019-01-01 08:03:06|         38.674999|        -78.632459|        22844|       Keeling-Crist|  2019-01-01 08:03:06|a41d7549acf907893...|     M|38.4207|          -79.4629|      99|Dance movement ps...|1986-03-28|    408 Bradley Rest|            Doe Hill|   VA|24433|      Tyler|   Garcia|\n",
      "|         5| 94.63|gas_transport|   APBCUS61|   4767265376804500|       0|2019-01-01 08:04:08|   2019-01-01 08:04:08|         40.653382|-76.15266700000001|        17972|Stroman, Hudson a...|  2019-01-01 08:04:08|189a841a0a8ba0305...|     F| 40.375|          -75.2045|    2158|   Transport planner|1961-06-19|   4655 David Island|              Dublin|   PA|18917|   Jennifer|   Conner|\n",
      "|         6| 44.54|  grocery_net|   APBCUS61|     30074693890476|       0|2019-01-01 08:04:42|   2019-01-01 08:04:42|37.162704999999995|        -100.15337|         NULL|     Rowe-Vandervort|  2019-01-01 08:04:42|83ec1cc84142af6e2...|     F|37.9931|         -100.9893|    2691|     Arboriculturist|1993-08-16|889 Sarah Station...|             Holcomb|   KS|67851|     Kelsey| Richards|\n",
      "|         7| 71.65|gas_transport|         NA|   6011360759745864|       0|2019-01-01 08:05:08|   2019-01-01 08:05:08|         38.948089|        -78.540296|        22644|      Corwin-Collins|  2019-01-01 08:05:08|6d294ed2cc447d2c7...|     M|38.8432|          -78.6003|    6018|Designer, multimedia|1947-08-21|231 Flores Pass S...|            Edinburg|   VA|22824|     Steven| Williams|\n",
      "|         8|  4.27|     misc_pos|   ACEEUS31|   4922710831011201|       0|2019-01-01 08:05:18|   2019-01-01 08:05:18|         40.351813|        -79.958146|        15236|          Herzog Ltd|  2019-01-01 08:05:18|fc28024ce480f8ef2...|     F|40.3359|          -79.6607|    1472|Public affairs co...|1941-03-07|6888 Hicks Stream...|               Manor|   PA|15665|    Heather|    Chase|\n",
      "|         9|198.39|  grocery_pos|DEUTUS33TRF|   2720830304681674|       0|2019-01-01 08:06:01|   2019-01-01 08:06:01|         37.179198|        -87.485381|        42442|Schoen, Kuphal an...|  2019-01-01 08:06:01|3b9014ea8fb80bd65...|     F| 36.522|-87.34899999999999|  151785|         Pathologist|1974-03-28|21326 Taylor Squa...|         Clarksville|   TN|37040|    Melissa|  Aguilar|\n",
      "|        10| 24.74|  grocery_pos|           |      4642894980163|       0|2019-01-01 08:06:23|   2019-01-01 08:06:23|40.275890999999994|        -96.011548|        68348|    Rutherford-Mertz|  2019-01-01 08:06:23|d71c95ab6b7356dd7...|     M|40.7491|           -95.038|    7297|          IT trainer|1990-07-13|1831 Faith View S...|            Clarinda|   IA|51632|      Eddie|   Mendez|\n",
      "|        11|  7.77| shopping_net|DEUTUS33TRF|    377234009633447|       0|2019-01-01 08:06:53|   2019-01-01 08:06:53|         40.103866|        -78.624459|        15554|     Kerluke-Abshire|  2019-01-01 08:06:53|3c74776e558f1499a...|     F|39.3716|          -77.8229|    1925|   Systems developer|1966-02-14|43576 Kristina Is...| Shenandoah Junction|   WV|25442|    Theresa|Blackwell|\n",
      "|        12| 71.22|  grocery_pos|DEUTUS33TRF|    180042946491150|       0|2019-01-01 08:06:56|   2019-01-01 08:06:56|         27.630593|        -82.308891|        33598|         Lockman Ltd|  2019-01-01 08:06:56|c1d9a7ddb1e34639f...|     M|27.7898|          -82.7243|  341043|      Engineer, land|1989-02-28|    3337 Lisa Divide|    Saint Petersburg|   FL|33710|    Charles|   Robles|\n",
      "|        13| 96.29|  grocery_pos|   ACEEUS31|   5559857416065248|       0|2019-01-01 08:07:27|   2019-01-01 08:07:27|          41.65752|       -122.230347|         NULL|           Kiehn Inc|  2019-01-01 08:07:27|413636e759663f264...|     M|41.6125|         -122.5258|     589|     Systems analyst|1945-12-21|5916 Susan Bridge...|             Grenada|   CA|96038|       Jack|     Hill|\n",
      "|        14|  7.77| shopping_pos|   ACEEUS31|   3514865930894695|       0|2019-01-01 08:09:03|   2019-01-01 08:09:03|         32.863258|       -106.520205|         NULL|         Beier-Hyatt|  2019-01-01 08:09:03|8a6293af5ed278dea...|     M|32.9396|         -105.8189|     899|     Naval architect|1967-08-30|1632 Cohen Drive ...|High Rolls Mounta...|   NM|88325|Christopher|Castaneda|\n",
      "|        15|  3.26| shopping_net|CITIUS33CHI|   6011999606625827|       0|2019-01-01 08:09:20|   2019-01-01 08:09:20|         41.831174|        -74.335559|        12446|    Schmidt and Sons|  2019-01-01 08:09:20|baae0b096835c9758...|     M|40.9918|            -73.98|    4664|Radiographer, dia...|1965-06-30|     870 Rocha Drive|     Harrington Park|   NJ| 7640|     Ronald|   Carson|\n",
      "|        16| 327.0|     misc_net|CITIUS33CHI|   6011860238257910|       0|2019-01-01 08:10:49|   2019-01-01 08:10:49|36.384091999999995|        -99.048472|        73852|    Lebsack and Sons|  2019-01-01 08:10:49|991c04803b4d4eeab...|     F| 36.385|          -98.0727|    1078|Programme researc...|1952-07-06|44259 Beth Statio...|              Lahoma|   OK|73754|       Lisa|   Mendez|\n",
      "|        17|341.67| shopping_pos|           |   3565423334076143|       0|2019-01-01 08:10:58|   2019-01-01 08:10:58|         38.674491|        -88.305767|        62824|        Mayert Group|  2019-01-01 08:10:58|f12cf52be2175703d...|     M|38.9763|          -87.3667|    4081|     Energy engineer|1938-03-15|4923 Campbell Pin...|            Carlisle|   IN|47838|     Nathan|   Thomas|\n",
      "|        18| 63.07|  food_dining|   APBCUS61|   2348245054386329|       0|2019-01-01 08:11:14|   2019-01-01 08:11:14|         41.430274|        -79.492553|        16364|Konopelski, Schne...|  2019-01-01 08:11:14|8500f3d459047eac8...|     M|42.1767|          -79.9416|    2518|     Event organiser|1946-02-02|268 Hayes Rue Sui...|         Harborcreek|   PA|16421|     Justin|      Gay|\n",
      "|        19| 44.71|  grocery_pos|           |4956828990005111019|       0|2019-01-01 08:12:34|   2019-01-01 08:12:34|         40.079588|-74.84808699999999|        08016|Schultz, Simonis ...|  2019-01-01 08:12:34|09eff9c806365e2a6...|     M|40.6747|          -74.2239|  124967|Operational resea...|1980-12-21|  269 Sanchez Rapids|           Elizabeth|   NJ| 7208|    Kenneth| Robinson|\n",
      "+----------+------+-------------+-----------+-------------------+--------+-------------------+----------------------+------------------+------------------+-------------+--------------------+---------------------+--------------------+------+-------+------------------+--------+--------------------+----------+--------------------+--------------------+-----+-----+-----------+---------+\n",
      "only showing top 20 rows\n",
      "\n"
     ]
    }
   ],
   "source": [
    "stg_df.show()"
   ]
  },
  {
   "cell_type": "code",
   "execution_count": 162,
   "id": "b35e6584",
   "metadata": {},
   "outputs": [],
   "source": [
    "new_schema = StructType(\n",
    "    [\n",
    "        StructField(\"Unnamed: 0\", StringType(), True),\n",
    "        StructField(\"amt\", StringType(), True),\n",
    "        StructField(\"category\", StringType(), True),\n",
    "        StructField(\"cc_bic\", StringType(), True),\n",
    "        StructField(\"cc_num\", StringType(), True),\n",
    "        StructField(\"is_fraud\", StringType(), True),\n",
    "        StructField(\"merch_eff_time\", TimestampType(), True),\n",
    "        StructField(\"merch_last_update_time\", TimestampType(), True),\n",
    "        StructField(\"merch_lat\", StringType(), True),\n",
    "        StructField(\"merch_long\", StringType(), True),\n",
    "        StructField(\"merch_zipcode\", StringType(), True),\n",
    "        StructField(\"merchant\", StringType(), True),\n",
    "        StructField(\"trans_date_trans_time\", TimestampType(), True),\n",
    "        StructField(\"trans_num\", StringType(), True),\n",
    "        StructField(\"gender\", StringType(), True),\n",
    "        StructField(\"lat\", StringType(), True),\n",
    "        StructField(\"long\", StringType(), True),\n",
    "        StructField(\"city_pop\", StringType(), True),\n",
    "        StructField(\"job\", StringType(), True),\n",
    "        StructField(\"dob\", DateType(), True),\n",
    "        StructField(\"street\", StringType(), True),\n",
    "        StructField(\"city\", StringType(), True),\n",
    "        StructField(\"state\", StringType(), True),\n",
    "        StructField(\"zip\", StringType(), True),\n",
    "        StructField(\"first\", StringType(), True),\n",
    "        StructField(\"last\", StringType(), True),\n",
    "    ]\n",
    ")\n",
    "stg_df = spark.createDataFrame(stg_df.rdd, schema=new_schema)"
   ]
  },
  {
   "cell_type": "code",
   "execution_count": 163,
   "id": "3a4cec47",
   "metadata": {},
   "outputs": [
    {
     "name": "stdout",
     "output_type": "stream",
     "text": [
      "root\n",
      " |-- Unnamed: 0: string (nullable = true)\n",
      " |-- amt: string (nullable = true)\n",
      " |-- category: string (nullable = true)\n",
      " |-- cc_bic: string (nullable = true)\n",
      " |-- cc_num: string (nullable = true)\n",
      " |-- is_fraud: string (nullable = true)\n",
      " |-- merch_eff_time: timestamp (nullable = true)\n",
      " |-- merch_last_update_time: timestamp (nullable = true)\n",
      " |-- merch_lat: string (nullable = true)\n",
      " |-- merch_long: string (nullable = true)\n",
      " |-- merch_zipcode: string (nullable = true)\n",
      " |-- merchant: string (nullable = true)\n",
      " |-- trans_date_trans_time: timestamp (nullable = true)\n",
      " |-- trans_num: string (nullable = true)\n",
      " |-- gender: string (nullable = true)\n",
      " |-- lat: string (nullable = true)\n",
      " |-- long: string (nullable = true)\n",
      " |-- city_pop: string (nullable = true)\n",
      " |-- job: string (nullable = true)\n",
      " |-- dob: date (nullable = true)\n",
      " |-- street: string (nullable = true)\n",
      " |-- city: string (nullable = true)\n",
      " |-- state: string (nullable = true)\n",
      " |-- zip: string (nullable = true)\n",
      " |-- first: string (nullable = true)\n",
      " |-- last: string (nullable = true)\n",
      "\n"
     ]
    }
   ],
   "source": [
    "stg_df.printSchema()"
   ]
  },
  {
   "cell_type": "markdown",
   "id": "8d4a575e",
   "metadata": {},
   "source": [
    "# 5. Descriptive Statistics"
   ]
  },
  {
   "cell_type": "code",
   "execution_count": null,
   "id": "3c5cb314",
   "metadata": {},
   "outputs": [],
   "source": [
    "def describe_columns(df: DataFrame, high_card_threshold=0.5):\n",
    "    total_rows = df.count()\n",
    "    summary = []\n",
    "\n",
    "    for column in df.columns:\n",
    "        # Null values\n",
    "        null_count = df.filter(col(column).isNull()).count()\n",
    "        null_pct = (null_count / total_rows) * 100\n",
    "\n",
    "        # Empty string values\n",
    "        empty_string_count = df.filter(\n",
    "            (col(column) == \"\") & (col(column).isNotNull())\n",
    "        ).count()\n",
    "        empty_string_pct = (empty_string_count / total_rows) * 100\n",
    "\n",
    "        # Distinct count\n",
    "        distinct_count = df.select(column).distinct().count()\n",
    "\n",
    "        # Non Null values\n",
    "        non_null_values = df.filter(col(column).isNotNull()).count()\n",
    "\n",
    "        # High cardinality\n",
    "        high_card = distinct_count > (non_null_values * high_card_threshold)\n",
    "\n",
    "        summary.append(\n",
    "            {\n",
    "                \"column_name\": column,\n",
    "                \"distinct_values\": distinct_count,\n",
    "                \"null_values\": null_count,\n",
    "                \"empty_string_values\": empty_string_count,\n",
    "                \"high_cardinality\": high_card,\n",
    "                \"null %\": null_pct,\n",
    "                \"empty strings %\": empty_string_pct,\n",
    "            }\n",
    "        )\n",
    "\n",
    "    return spark.createDataFrame(summary).select(\n",
    "        \"column_name\",\n",
    "        \"distinct_values\",\n",
    "        \"null_values\",\n",
    "        \"empty_string_values\",\n",
    "        \"high_cardinality\",\n",
    "        round(\"null %\", 2).alias(\"null %\"),\n",
    "        round(\"empty strings %\", 2).alias(\"null %\"),\n",
    "    )"
   ]
  },
  {
   "cell_type": "code",
   "execution_count": 177,
   "id": "c6a9b687",
   "metadata": {},
   "outputs": [
    {
     "name": "stderr",
     "output_type": "stream",
     "text": [
      "                                                                                \r"
     ]
    },
    {
     "name": "stdout",
     "output_type": "stream",
     "text": [
      "+-------------+---------------+-----------+-------------------+----------------+------+------+\n",
      "|column_name  |distinct_values|null_values|empty_string_values|high_cardinality|null %|null %|\n",
      "+-------------+---------------+-----------+-------------------+----------------+------+------+\n",
      "|merch_zipcode|28337          |195973     |0                  |false           |15.11 |0.0   |\n",
      "|cc_bic       |9              |0          |144381             |false           |0.0   |11.13 |\n",
      "+-------------+---------------+-----------+-------------------+----------------+------+------+\n",
      "\n"
     ]
    }
   ],
   "source": [
    "describe_columns(stg_df.select(\"merch_zipcode\", \"cc_bic\")).show(truncate=False)"
   ]
  },
  {
   "cell_type": "markdown",
   "id": "f43e0f89",
   "metadata": {},
   "source": [
    "Findings \n",
    "- While merch_zipcode and cc_bic have <20% empty strings & null % combined - these features can still be used \n",
    "- Note that high cardinality = when distinct value is > 50% of non-null records of the column"
   ]
  },
  {
   "cell_type": "markdown",
   "id": "6835a3d4",
   "metadata": {},
   "source": []
  },
  {
   "cell_type": "markdown",
   "id": "83251182",
   "metadata": {},
   "source": [
    "# 6. Handling PII Data\n",
    "- Instead of using AES encryption that is more safe but is not friendly for analytics, for this exercise purpose, we will use SHA-256 hashing with salt. \n",
    "- While hashing is irreversible - we can store another table that can be access when absolutely necessary (e.g. compliance)\n",
    "\n",
    "Actions Taken / Created PII Columns\n",
    "- person_id - Hashed First + Last + DOB as person identifier\n",
    "- cc_num - Hashed cc_num for credit card details (cannot combine with cc_bic as there are missing values that may affect the EDA later)"
   ]
  },
  {
   "cell_type": "code",
   "execution_count": 178,
   "id": "c3d3081f",
   "metadata": {},
   "outputs": [],
   "source": [
    "# Create a unique hash ID using SHA-256 + added salt (random word) - Person name\n",
    "dim_df =  stg_df.withColumn(\n",
    "    \"person_id\",\n",
    "    sha2(\n",
    "        concat(lit(\"securedPII:\"), concat_ws(\":\", \"first\", \"last\", \"dob\")),\n",
    "        256\n",
    "    )\n",
    ")\n",
    "# Create a unique hash ID using SHA-256 + added salt (random word) - Credit card number\n",
    "dim_df =  dim_df.withColumn(\n",
    "    \"cc_id\",\n",
    "    sha2(\n",
    "        concat(lit(\"securedPII:\"), col(\"cc_num\")),\n",
    "        256\n",
    "    )\n",
    ")\n",
    "\n",
    "# Store as separated tables for future references\n",
    "pii_person_id_df = dim_df.select(\"person_id\", \"first\", \"last\", \"dob\").dropDuplicates()\n",
    "\n",
    "# Store as separated tables for future references\n",
    "pii_cc_id_df = dim_df.select(\"cc_id\", \"cc_num\").dropDuplicates()\n",
    "\n",
    "# Drop the PII columns\n",
    "dim_df = dim_df.drop(\"first\", \"last\", \"cc_num\")\n"
   ]
  },
  {
   "cell_type": "code",
   "execution_count": 179,
   "id": "497fca46",
   "metadata": {},
   "outputs": [
    {
     "name": "stdout",
     "output_type": "stream",
     "text": [
      "+----------+------+-------------+-----------+--------+-------------------+----------------------+------------------+------------------+-------------+--------------------+---------------------+--------------------+------+-------+------------------+--------+--------------------+----------+--------------------+--------------------+-----+-----+--------------------+--------------------+\n",
      "|Unnamed: 0|   amt|     category|     cc_bic|is_fraud|     merch_eff_time|merch_last_update_time|         merch_lat|        merch_long|merch_zipcode|            merchant|trans_date_trans_time|           trans_num|gender|    lat|              long|city_pop|                 job|       dob|              street|                city|state|  zip|           person_id|               cc_id|\n",
      "+----------+------+-------------+-----------+--------+-------------------+----------------------+------------------+------------------+-------------+--------------------+---------------------+--------------------+------+-------+------------------+--------+--------------------+----------+--------------------+--------------------+-----+-----+--------------------+--------------------+\n",
      "|         0|  4.97|     misc_net|CITIUS33CHI|       0|2019-01-01 08:00:18|   2019-01-01 08:00:18|         36.011293|        -82.048315|        28705|Rippin, Kub and Mann|  2019-01-01 08:00:18|0b242abb623afc578...|     F|36.0788|          -81.1781|    3495|Psychologist, cou...|1988-03-09|      561 Perry Cove|      Moravian Falls|   NC|28654|fb90346f9bae446ab...|12dffaa0d5ffed14d...|\n",
      "|         1|107.23|  grocery_pos|   ADMDUS41|       0|2019-01-01 08:00:44|   2019-01-01 08:00:44|49.159046999999994|       -118.186462|         NULL|Heller, Gutmann a...|  2019-01-01 08:00:44|1f76529f857473494...|     F|48.8878|         -118.2105|     149|Special education...|1978-06-21|43039 Riley Green...|              Orient|   WA|99160|09f282bde2b7ac64f...|68f18d63558c5d07d...|\n",
      "|         2|220.11|entertainment|       Null|       0|2019-01-01 08:00:51|   2019-01-01 08:00:51|         43.150704|       -112.154481|        83236|      Lind-Buckridge|  2019-01-01 08:00:51|a1a22d70485983eac...|     M|42.1808|          -112.262|    4154|Nature conservati...|1962-01-19|594 White Dale Su...|          Malad City|   ID|83252|b7c2da4ed41e23f19...|4425c05c519342d11...|\n",
      "|         3|  45.0|gas_transport|DEUTUS33TRF|       0|2019-01-01 08:01:16|   2019-01-01 08:01:16|         47.034331|       -112.561071|         NULL|Kutch, Hermiston ...|  2019-01-01 08:01:16|6b849c168bdad6f86...|     M|46.2306|         -112.1138|    1939|     Patent attorney|1967-01-12|9443 Cynthia Cour...|             Boulder|   MT|59632|f892e4da0777dad36...|b15b27f7ac2bdd781...|\n",
      "|         4| 41.96|     misc_pos|   APBCUS61|       0|2019-01-01 08:03:06|   2019-01-01 08:03:06|         38.674999|        -78.632459|        22844|       Keeling-Crist|  2019-01-01 08:03:06|a41d7549acf907893...|     M|38.4207|          -79.4629|      99|Dance movement ps...|1986-03-28|    408 Bradley Rest|            Doe Hill|   VA|24433|ed98c01bb6ac2079d...|c7f6ac704965d239e...|\n",
      "|         5| 94.63|gas_transport|   APBCUS61|       0|2019-01-01 08:04:08|   2019-01-01 08:04:08|         40.653382|-76.15266700000001|        17972|Stroman, Hudson a...|  2019-01-01 08:04:08|189a841a0a8ba0305...|     F| 40.375|          -75.2045|    2158|   Transport planner|1961-06-19|   4655 David Island|              Dublin|   PA|18917|f1660b010bf9d740c...|832a1b22644053b74...|\n",
      "|         6| 44.54|  grocery_net|   APBCUS61|       0|2019-01-01 08:04:42|   2019-01-01 08:04:42|37.162704999999995|        -100.15337|         NULL|     Rowe-Vandervort|  2019-01-01 08:04:42|83ec1cc84142af6e2...|     F|37.9931|         -100.9893|    2691|     Arboriculturist|1993-08-16|889 Sarah Station...|             Holcomb|   KS|67851|664989b35ce051bfc...|0641e2262904e5dc7...|\n",
      "|         7| 71.65|gas_transport|         NA|       0|2019-01-01 08:05:08|   2019-01-01 08:05:08|         38.948089|        -78.540296|        22644|      Corwin-Collins|  2019-01-01 08:05:08|6d294ed2cc447d2c7...|     M|38.8432|          -78.6003|    6018|Designer, multimedia|1947-08-21|231 Flores Pass S...|            Edinburg|   VA|22824|a663b59cc6e58a36a...|06ecf7d7e785b59fa...|\n",
      "|         8|  4.27|     misc_pos|   ACEEUS31|       0|2019-01-01 08:05:18|   2019-01-01 08:05:18|         40.351813|        -79.958146|        15236|          Herzog Ltd|  2019-01-01 08:05:18|fc28024ce480f8ef2...|     F|40.3359|          -79.6607|    1472|Public affairs co...|1941-03-07|6888 Hicks Stream...|               Manor|   PA|15665|bcad268f26bda1cbc...|e15512c21da5365d4...|\n",
      "|         9|198.39|  grocery_pos|DEUTUS33TRF|       0|2019-01-01 08:06:01|   2019-01-01 08:06:01|         37.179198|        -87.485381|        42442|Schoen, Kuphal an...|  2019-01-01 08:06:01|3b9014ea8fb80bd65...|     F| 36.522|-87.34899999999999|  151785|         Pathologist|1974-03-28|21326 Taylor Squa...|         Clarksville|   TN|37040|366315610d0441a92...|a764d94a881db2d2a...|\n",
      "|        10| 24.74|  grocery_pos|           |       0|2019-01-01 08:06:23|   2019-01-01 08:06:23|40.275890999999994|        -96.011548|        68348|    Rutherford-Mertz|  2019-01-01 08:06:23|d71c95ab6b7356dd7...|     M|40.7491|           -95.038|    7297|          IT trainer|1990-07-13|1831 Faith View S...|            Clarinda|   IA|51632|25427b648b6f039fd...|7fcf0b5a646bc7e06...|\n",
      "|        11|  7.77| shopping_net|DEUTUS33TRF|       0|2019-01-01 08:06:53|   2019-01-01 08:06:53|         40.103866|        -78.624459|        15554|     Kerluke-Abshire|  2019-01-01 08:06:53|3c74776e558f1499a...|     F|39.3716|          -77.8229|    1925|   Systems developer|1966-02-14|43576 Kristina Is...| Shenandoah Junction|   WV|25442|fe55beeae1dda6ce5...|e560f6ee745c4c6e8...|\n",
      "|        12| 71.22|  grocery_pos|DEUTUS33TRF|       0|2019-01-01 08:06:56|   2019-01-01 08:06:56|         27.630593|        -82.308891|        33598|         Lockman Ltd|  2019-01-01 08:06:56|c1d9a7ddb1e34639f...|     M|27.7898|          -82.7243|  341043|      Engineer, land|1989-02-28|    3337 Lisa Divide|    Saint Petersburg|   FL|33710|cc4067b246c19b626...|b335cadee987b67c2...|\n",
      "|        13| 96.29|  grocery_pos|   ACEEUS31|       0|2019-01-01 08:07:27|   2019-01-01 08:07:27|          41.65752|       -122.230347|         NULL|           Kiehn Inc|  2019-01-01 08:07:27|413636e759663f264...|     M|41.6125|         -122.5258|     589|     Systems analyst|1945-12-21|5916 Susan Bridge...|             Grenada|   CA|96038|4a8e04af3be503eaa...|320260fa8ceee8f7d...|\n",
      "|        14|  7.77| shopping_pos|   ACEEUS31|       0|2019-01-01 08:09:03|   2019-01-01 08:09:03|         32.863258|       -106.520205|         NULL|         Beier-Hyatt|  2019-01-01 08:09:03|8a6293af5ed278dea...|     M|32.9396|         -105.8189|     899|     Naval architect|1967-08-30|1632 Cohen Drive ...|High Rolls Mounta...|   NM|88325|fa1ec23ca1261a13c...|21a0c58a1bab67c90...|\n",
      "|        15|  3.26| shopping_net|CITIUS33CHI|       0|2019-01-01 08:09:20|   2019-01-01 08:09:20|         41.831174|        -74.335559|        12446|    Schmidt and Sons|  2019-01-01 08:09:20|baae0b096835c9758...|     M|40.9918|            -73.98|    4664|Radiographer, dia...|1965-06-30|     870 Rocha Drive|     Harrington Park|   NJ| 7640|d8c8159166bc57155...|a550ec32c245501c3...|\n",
      "|        16| 327.0|     misc_net|CITIUS33CHI|       0|2019-01-01 08:10:49|   2019-01-01 08:10:49|36.384091999999995|        -99.048472|        73852|    Lebsack and Sons|  2019-01-01 08:10:49|991c04803b4d4eeab...|     F| 36.385|          -98.0727|    1078|Programme researc...|1952-07-06|44259 Beth Statio...|              Lahoma|   OK|73754|b8ccdcda7aefab1db...|7c7b46222c77ad53c...|\n",
      "|        17|341.67| shopping_pos|           |       0|2019-01-01 08:10:58|   2019-01-01 08:10:58|         38.674491|        -88.305767|        62824|        Mayert Group|  2019-01-01 08:10:58|f12cf52be2175703d...|     M|38.9763|          -87.3667|    4081|     Energy engineer|1938-03-15|4923 Campbell Pin...|            Carlisle|   IN|47838|f0b6879e2850dd53b...|4b75026ae85d147cc...|\n",
      "|        18| 63.07|  food_dining|   APBCUS61|       0|2019-01-01 08:11:14|   2019-01-01 08:11:14|         41.430274|        -79.492553|        16364|Konopelski, Schne...|  2019-01-01 08:11:14|8500f3d459047eac8...|     M|42.1767|          -79.9416|    2518|     Event organiser|1946-02-02|268 Hayes Rue Sui...|         Harborcreek|   PA|16421|d297ade15bb901150...|e990f8630367da051...|\n",
      "|        19| 44.71|  grocery_pos|           |       0|2019-01-01 08:12:34|   2019-01-01 08:12:34|         40.079588|-74.84808699999999|        08016|Schultz, Simonis ...|  2019-01-01 08:12:34|09eff9c806365e2a6...|     M|40.6747|          -74.2239|  124967|Operational resea...|1980-12-21|  269 Sanchez Rapids|           Elizabeth|   NJ| 7208|8edc6fb4d6f588fad...|44b2445ee1834859c...|\n",
      "+----------+------+-------------+-----------+--------+-------------------+----------------------+------------------+------------------+-------------+--------------------+---------------------+--------------------+------+-------+------------------+--------+--------------------+----------+--------------------+--------------------+-----+-----+--------------------+--------------------+\n",
      "only showing top 20 rows\n",
      "\n"
     ]
    }
   ],
   "source": [
    "# PII info like person_name and cc_num has been dropped \n",
    "dim_df.show()"
   ]
  },
  {
   "cell_type": "markdown",
   "id": "eb77019c",
   "metadata": {},
   "source": [
    "# 7. Exploratory Data Analysis"
   ]
  },
  {
   "cell_type": "code",
   "execution_count": 180,
   "id": "0ee5b81b",
   "metadata": {},
   "outputs": [
    {
     "name": "stdout",
     "output_type": "stream",
     "text": [
      "root\n",
      " |-- Unnamed: 0: string (nullable = true)\n",
      " |-- amt: string (nullable = true)\n",
      " |-- category: string (nullable = true)\n",
      " |-- cc_bic: string (nullable = true)\n",
      " |-- is_fraud: string (nullable = true)\n",
      " |-- merch_eff_time: timestamp (nullable = true)\n",
      " |-- merch_last_update_time: timestamp (nullable = true)\n",
      " |-- merch_lat: string (nullable = true)\n",
      " |-- merch_long: string (nullable = true)\n",
      " |-- merch_zipcode: string (nullable = true)\n",
      " |-- merchant: string (nullable = true)\n",
      " |-- trans_date_trans_time: timestamp (nullable = true)\n",
      " |-- trans_num: string (nullable = true)\n",
      " |-- gender: string (nullable = true)\n",
      " |-- lat: string (nullable = true)\n",
      " |-- long: string (nullable = true)\n",
      " |-- city_pop: string (nullable = true)\n",
      " |-- job: string (nullable = true)\n",
      " |-- dob: date (nullable = true)\n",
      " |-- street: string (nullable = true)\n",
      " |-- city: string (nullable = true)\n",
      " |-- state: string (nullable = true)\n",
      " |-- zip: string (nullable = true)\n",
      " |-- person_id: string (nullable = true)\n",
      " |-- cc_id: string (nullable = true)\n",
      "\n"
     ]
    }
   ],
   "source": [
    "dim_df.printSchema()"
   ]
  },
  {
   "cell_type": "code",
   "execution_count": 200,
   "id": "c254f111",
   "metadata": {},
   "outputs": [
    {
     "data": {
      "text/html": [
       "<div>\n",
       "<style scoped>\n",
       "    .dataframe tbody tr th:only-of-type {\n",
       "        vertical-align: middle;\n",
       "    }\n",
       "\n",
       "    .dataframe tbody tr th {\n",
       "        vertical-align: top;\n",
       "    }\n",
       "\n",
       "    .dataframe thead th {\n",
       "        text-align: right;\n",
       "    }\n",
       "</style>\n",
       "<table border=\"1\" class=\"dataframe\">\n",
       "  <thead>\n",
       "    <tr style=\"text-align: right;\">\n",
       "      <th></th>\n",
       "      <th>amt</th>\n",
       "      <th>city_pop</th>\n",
       "      <th>is_fraud</th>\n",
       "    </tr>\n",
       "  </thead>\n",
       "  <tbody>\n",
       "    <tr>\n",
       "      <th>34740</th>\n",
       "      <td>1.0</td>\n",
       "      <td>5950</td>\n",
       "      <td>0</td>\n",
       "    </tr>\n",
       "    <tr>\n",
       "      <th>1121732</th>\n",
       "      <td>1.0</td>\n",
       "      <td>19054</td>\n",
       "      <td>0</td>\n",
       "    </tr>\n",
       "    <tr>\n",
       "      <th>111039</th>\n",
       "      <td>1.0</td>\n",
       "      <td>1139</td>\n",
       "      <td>0</td>\n",
       "    </tr>\n",
       "    <tr>\n",
       "      <th>1121560</th>\n",
       "      <td>1.0</td>\n",
       "      <td>139</td>\n",
       "      <td>0</td>\n",
       "    </tr>\n",
       "    <tr>\n",
       "      <th>921797</th>\n",
       "      <td>1.0</td>\n",
       "      <td>238602</td>\n",
       "      <td>0</td>\n",
       "    </tr>\n",
       "    <tr>\n",
       "      <th>...</th>\n",
       "      <td>...</td>\n",
       "      <td>...</td>\n",
       "      <td>...</td>\n",
       "    </tr>\n",
       "    <tr>\n",
       "      <th>469047</th>\n",
       "      <td>999.7</td>\n",
       "      <td>1263321</td>\n",
       "      <td>0</td>\n",
       "    </tr>\n",
       "    <tr>\n",
       "      <th>744910</th>\n",
       "      <td>999.76</td>\n",
       "      <td>601723</td>\n",
       "      <td>1</td>\n",
       "    </tr>\n",
       "    <tr>\n",
       "      <th>229799</th>\n",
       "      <td>999.84</td>\n",
       "      <td>191096</td>\n",
       "      <td>1</td>\n",
       "    </tr>\n",
       "    <tr>\n",
       "      <th>457440</th>\n",
       "      <td>9995.78</td>\n",
       "      <td>237282</td>\n",
       "      <td>0</td>\n",
       "    </tr>\n",
       "    <tr>\n",
       "      <th>1027228</th>\n",
       "      <td>9999.39</td>\n",
       "      <td>2644</td>\n",
       "      <td>0</td>\n",
       "    </tr>\n",
       "  </tbody>\n",
       "</table>\n",
       "<p>1296675 rows × 3 columns</p>\n",
       "</div>"
      ],
      "text/plain": [
       "             amt city_pop is_fraud\n",
       "34740        1.0     5950        0\n",
       "1121732      1.0    19054        0\n",
       "111039       1.0     1139        0\n",
       "1121560      1.0      139        0\n",
       "921797       1.0   238602        0\n",
       "...          ...      ...      ...\n",
       "469047     999.7  1263321        0\n",
       "744910    999.76   601723        1\n",
       "229799    999.84   191096        1\n",
       "457440   9995.78   237282        0\n",
       "1027228  9999.39     2644        0\n",
       "\n",
       "[1296675 rows x 3 columns]"
      ]
     },
     "execution_count": 200,
     "metadata": {},
     "output_type": "execute_result"
    }
   ],
   "source": [
    "data.sort_values(\"amt\")"
   ]
  },
  {
   "cell_type": "code",
   "execution_count": 198,
   "id": "60f5d519",
   "metadata": {},
   "outputs": [
    {
     "name": "stderr",
     "output_type": "stream",
     "text": [
      "/home/kennysim/anaconda3/envs/kennysim/lib/python3.12/site-packages/IPython/core/pylabtools.py:170: UserWarning: Creating legend with loc=\"best\" can be slow with large amounts of data.\n",
      "  fig.canvas.print_figure(bytes_io, **kw)\n"
     ]
    },
    {
     "data": {
      "image/png": "[encoded data removed]",
      "text/plain": [
       "<Figure size 2000x500 with 2 Axes>"
      ]
     },
     "metadata": {},
     "output_type": "display_data"
    },
    {
     "data": {
      "image/png": "[encoded data removed]",
      "text/plain": [
       "<Figure size 2000x500 with 2 Axes>"
      ]
     },
     "metadata": {},
     "output_type": "display_data"
    },
    {
     "data": {
      "image/png": "[encoded data removed]",
      "text/plain": [
       "<Figure size 2000x500 with 2 Axes>"
      ]
     },
     "metadata": {},
     "output_type": "display_data"
    }
   ],
   "source": [
    "numerical_cols = [\"amt\", \"city_pop\", \"is_fraud\"]\n",
    "data = dim_df.select(numerical_cols).toPandas()\n",
    "\n",
    "for feature in numerical_cols:\n",
    "    plt.figure(figsize=(20, 5))\n",
    "\n",
    "    # First subplot for the boxplot\n",
    "    plt.subplot(1, 2, 1)\n",
    "    sns.boxplot(data=data, x=\"is_fraud\", y=feature)\n",
    "    plt.title(f\"Boxplot of {feature} by is_fraud\")\n",
    "\n",
    "    # Second subplot for the histogram\n",
    "    plt.subplot(1,2,2)\n",
    "    sns.histplot(data=data, x=feature, hue=\"is_fraud\", stat=\"density\", common_norm=False)\n",
    "    plt.title(f\"Overlapped Histogram of {feature} by is_fraud\")\n",
    "\n",
    "    plt.show()"
   ]
  },
  {
   "cell_type": "markdown",
   "id": "256a1e93",
   "metadata": {},
   "source": [
    "Observation: \n",
    "- Seems like the density of transactions that are fraudulent happens to higher value transactions and also to places where the city population is higher"
   ]
  },
  {
   "cell_type": "markdown",
   "id": "fffb569f",
   "metadata": {},
   "source": [
    "## Check if One Person Has Multiple Credit Cards\n",
    "- Suspicious if a person has many cards not consistent with typical behavior"
   ]
  },
  {
   "cell_type": "code",
   "execution_count": null,
   "id": "adf26fa0",
   "metadata": {},
   "outputs": [
    {
     "name": "stderr",
     "output_type": "stream",
     "text": [
      "[Stage 543:===================================================>   (15 + 1) / 16]\r"
     ]
    },
    {
     "name": "stdout",
     "output_type": "stream",
     "text": [
      "+--------------------+--------------------+-----------------------+\n",
      "|           person_id|count_distinct_cc_id|count_cc_id_transaction|\n",
      "+--------------------+--------------------+-----------------------+\n",
      "|cfa9abd07cf19e70d...|                   1|                   1037|\n",
      "|48fb31df56031112a...|                   1|                   2063|\n",
      "|68b434b6aafb5e3aa...|                   1|                    510|\n",
      "|9a22fe262004bc3a4...|                   1|                   1535|\n",
      "|f2ba11a6cb8ddcb62...|                   1|                   1029|\n",
      "|7d27fa98a77a33eff...|                   1|                     11|\n",
      "|135e75523242811f1...|                   1|                      7|\n",
      "|8bcaf4967ff4e466c...|                   1|                    520|\n",
      "|56c922d5d55d91ddb...|                   1|                   1530|\n",
      "|9cc5746b8e72ded02...|                   1|                    516|\n",
      "|e53e21dc51d096aa4...|                   1|                   1046|\n",
      "|88cdfd82aff23bb95...|                   1|                    518|\n",
      "|8ac9dc590f801cdaa...|                   1|                   2047|\n",
      "|0e4577c299f5445ba...|                   1|                    529|\n",
      "|d59c54d5cd65bd1cf...|                   1|                   1496|\n",
      "|e11233265d836c5d1...|                   1|                    496|\n",
      "|3c9acac51612111f6...|                   1|                    513|\n",
      "|86837ec73dc64599e...|                   1|                     11|\n",
      "|730e7f72a5d415bd8...|                   1|                   1058|\n",
      "|e718cd3be7015d99f...|                   1|                   1548|\n",
      "+--------------------+--------------------+-----------------------+\n",
      "only showing top 20 rows\n",
      "\n"
     ]
    },
    {
     "name": "stderr",
     "output_type": "stream",
     "text": [
      "                                                                                \r"
     ]
    }
   ],
   "source": [
    "# Check for \n",
    "agg_person = dim_df.groupby(\"person_id\").agg(\n",
    "    countDistinct(\"cc_id\").alias(\"count_distinct_cc_id\"), \n",
    "    count(\"cc_id\").alias(\"count_cc_id_transaction\")\n",
    ").sort(desc(\"count_distinct_cc_id\"))\n",
    "agg_person.show()"
   ]
  },
  {
   "cell_type": "markdown",
   "id": "d33169b9",
   "metadata": {},
   "source": [
    "# Check if One Credit Card Used by Multiple Persons\n",
    "- Could indicate stolen or shared card"
   ]
  },
  {
   "cell_type": "code",
   "execution_count": 201,
   "id": "3630b077",
   "metadata": {},
   "outputs": [
    {
     "name": "stderr",
     "output_type": "stream",
     "text": [
      "[Stage 1092:===============================================>      (14 + 2) / 16]\r"
     ]
    },
    {
     "name": "stdout",
     "output_type": "stream",
     "text": [
      "+--------------------+------------------------+---------------------------+\n",
      "|               cc_id|count_distinct_person_id|count_person_id_transaction|\n",
      "+--------------------+------------------------+---------------------------+\n",
      "|65a4b6b9981529af1...|                       1|                        504|\n",
      "|cc0cb46fe1dfcf015...|                       1|                       2082|\n",
      "|1a4efe66e90a855f7...|                       1|                       2523|\n",
      "|c0f13035aa4e69e93...|                       1|                       2572|\n",
      "|65e35541e7862a61e...|                       1|                       1523|\n",
      "|ca841600a2d4d90b9...|                       1|                        511|\n",
      "|de192b163372e341a...|                       1|                       1022|\n",
      "|606d0d82d018b23c7...|                       1|                       1538|\n",
      "|eebfe7692ce9dac4e...|                       1|                       3119|\n",
      "|7dbe5ab7dad497d8b...|                       1|                       1577|\n",
      "|5110e3f6573de2120...|                       1|                       1029|\n",
      "|aea82aab318baf231...|                       1|                       2585|\n",
      "|82c84c7482d682565...|                       1|                       1525|\n",
      "|2a9680436dd01f6fa...|                       1|                        505|\n",
      "|84f55223ae97adbd3...|                       1|                       2587|\n",
      "|e34896df0f057d8c1...|                       1|                       1544|\n",
      "|9bb772b95b916e5d6...|                       1|                       1026|\n",
      "|906b79258f875ba9f...|                       1|                       1519|\n",
      "|03d45103ebaaf09fe...|                       1|                       1538|\n",
      "|a62b9d636a160f69d...|                       1|                       3026|\n",
      "+--------------------+------------------------+---------------------------+\n",
      "only showing top 20 rows\n",
      "\n"
     ]
    },
    {
     "name": "stderr",
     "output_type": "stream",
     "text": [
      "                                                                                \r"
     ]
    }
   ],
   "source": [
    "agg_cc_id = dim_df.groupby(\"cc_id\").agg(\n",
    "    countDistinct(\"person_id\").alias(\"count_distinct_person_id\"), \n",
    "    count(\"person_id\").alias(\"count_person_id_transaction\")\n",
    ").sort(desc(\"count_distinct_person_id\"))\n",
    "agg_cc_id.show()"
   ]
  }
 ],
 "metadata": {
  "kernelspec": {
   "display_name": "kennysim",
   "language": "python",
   "name": "python3"
  },
  "language_info": {
   "codemirror_mode": {
    "name": "ipython",
    "version": 3
   },
   "file_extension": ".py",
   "mimetype": "text/x-python",
   "name": "python",
   "nbconvert_exporter": "python",
   "pygments_lexer": "ipython3",
   "version": "3.12.9"
  }
 },
 "nbformat": 4,
 "nbformat_minor": 5
}
